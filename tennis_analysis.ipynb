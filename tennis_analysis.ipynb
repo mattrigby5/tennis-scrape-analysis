{
 "cells": [
  {
   "cell_type": "markdown",
   "metadata": {},
   "source": [
    "## Which format is best for grand slam tennis: best of 5 or best of 3 set matches?\n",
    "\n",
    "1) Import CSV files of all matches from grand slams from 1989-2020 into a data frame, clean the data, and add columns for later analysis.\n",
    "\n",
    "2) Plot distribution of match lengths (and 5 set comebacks) for all players.\n",
    "\n",
    "3) Evaluate fairness of best of 1, 3, and 5 sets.\n",
    "\n",
    "4) See if players are more likely to be injured in best of 5 set matches.\n",
    "\n",
    "5) Additional analysis: How often do different seeds win grand slams?\n",
    "\n",
    "For an in-depth discussion of these results and more, see my blog post at https://rigbym.blogspot.com/2020/10/the-eternal-3-set-vs-5-set-debate-in.html"
   ]
  },
  {
   "cell_type": "code",
   "execution_count": 1,
   "metadata": {},
   "outputs": [],
   "source": [
    "from csv import reader\n",
    "from itertools import zip_longest\n",
    "import matplotlib.pyplot as plt\n",
    "import os\n",
    "import pandas as pd\n",
    "import numpy as np\n",
    "import seaborn as sns\n",
    "from statsmodels.stats.proportion import proportion_confint\n",
    "from scipy.optimize import curve_fit\n",
    "from itertools import zip_longest\n",
    "from scipy.stats import binom"
   ]
  },
  {
   "cell_type": "markdown",
   "metadata": {},
   "source": [
    "# 1) Import CSV files of all matches from grand slams from 1989-2020 into a data frame, clean the data, and add columns for later analysis.\n",
    "    a) Read all the .csv files into a data frame df (each csv file has all the matches from one tournament). \n",
    "    b) Define 14 functions to alter and add columns which will help in future analysis.\n",
    "    c) Make new columns in the data frame by executing the functions defined above."
   ]
  },
  {
   "cell_type": "markdown",
   "metadata": {},
   "source": [
    "### a) Read .csv files and clean the data:\n",
    "        - Replace rounds with numbers (eg. round 1 = 1, Finals=7)\n",
    "        - Sort the matches from each tournament in descending round order.\n",
    "        - Convert match scores from a string to a list using eval."
   ]
  },
  {
   "cell_type": "markdown",
   "metadata": {},
   "source": [
    "Get all the file names:"
   ]
  },
  {
   "cell_type": "code",
   "execution_count": 2,
   "metadata": {},
   "outputs": [],
   "source": [
    "directory=\"Slam_Data\\\\\"\n",
    "slam_names=[filename.split(\".\")[0] for filename in os.listdir(directory)] #Gets all files in a directory."
   ]
  },
  {
   "cell_type": "code",
   "execution_count": 3,
   "metadata": {},
   "outputs": [],
   "source": [
    "# Import all the slams and put the data into a data frame:\n",
    "col_names=['Grand Slam','Round','Player 1 Rating','Player 1','Player 1 Score','Player 2 Rating', 'Player 2','Player 2 Score']\n",
    "sort_dict={'First Round':1,'Second Round':2,'Third Round':3,'Fourth Round':4,'Quarterfinals':5,'Semifinals':6,'Finals':7}\n",
    "df=pd.DataFrame()\n",
    "for slam_name in slam_names[75:]:\n",
    "    df_temp=pd.read_csv(f\"{directory}{slam_name}.csv\", names=col_names) # read in next slam csv\n",
    "     # Replace round names with numbers (round 1-7)\n",
    "    df_temp['Round']=df_temp['Round'].apply(lambda x: sort_dict[x])\n",
    "    # Sort data frame in descending order of round (finals first):\n",
    "    df_temp=df_temp.sort_values('Round',ascending=False) \n",
    "    # Append new slam data frame to main data frame:\n",
    "    df = df.append(df_temp, ignore_index=True) \n",
    "#Convert Player scores into a list of integers from a string:\n",
    "df['Player 1 Score']=df['Player 1 Score'].apply(lambda x: eval(x)) \n",
    "df['Player 2 Score']=df['Player 2 Score'].apply(lambda x: eval(x))"
   ]
  },
  {
   "cell_type": "markdown",
   "metadata": {},
   "source": [
    "View data frame before altering too much:"
   ]
  },
  {
   "cell_type": "code",
   "execution_count": 4,
   "metadata": {
    "scrolled": true
   },
   "outputs": [
    {
     "data": {
      "text/html": [
       "<div>\n",
       "<style scoped>\n",
       "    .dataframe tbody tr th:only-of-type {\n",
       "        vertical-align: middle;\n",
       "    }\n",
       "\n",
       "    .dataframe tbody tr th {\n",
       "        vertical-align: top;\n",
       "    }\n",
       "\n",
       "    .dataframe thead th {\n",
       "        text-align: right;\n",
       "    }\n",
       "</style>\n",
       "<table border=\"1\" class=\"dataframe\">\n",
       "  <thead>\n",
       "    <tr style=\"text-align: right;\">\n",
       "      <th></th>\n",
       "      <th>Grand Slam</th>\n",
       "      <th>Round</th>\n",
       "      <th>Player 1 Rating</th>\n",
       "      <th>Player 1</th>\n",
       "      <th>Player 1 Score</th>\n",
       "      <th>Player 2 Rating</th>\n",
       "      <th>Player 2</th>\n",
       "      <th>Player 2 Score</th>\n",
       "    </tr>\n",
       "  </thead>\n",
       "  <tbody>\n",
       "    <tr>\n",
       "      <th>0</th>\n",
       "      <td>1989 a</td>\n",
       "      <td>7</td>\n",
       "      <td>9\\r\\n</td>\n",
       "      <td>Miloslav Mečíř</td>\n",
       "      <td>[2, 2, 2]</td>\n",
       "      <td>2\\r\\n</td>\n",
       "      <td>Ivan Lendl</td>\n",
       "      <td>[6, 6, 6]</td>\n",
       "    </tr>\n",
       "    <tr>\n",
       "      <th>1</th>\n",
       "      <td>1989 a</td>\n",
       "      <td>6</td>\n",
       "      <td>11\\r\\n</td>\n",
       "      <td>Thomas Muster</td>\n",
       "      <td>[2, 4, 7, 5]</td>\n",
       "      <td>2\\r\\n</td>\n",
       "      <td>Ivan Lendl</td>\n",
       "      <td>[6, 6, 5, 7]</td>\n",
       "    </tr>\n",
       "    <tr>\n",
       "      <th>2</th>\n",
       "      <td>1989 a</td>\n",
       "      <td>6</td>\n",
       "      <td>9\\r\\n</td>\n",
       "      <td>Miloslav Mečíř</td>\n",
       "      <td>[7, 6, 6]</td>\n",
       "      <td>\\r\\n</td>\n",
       "      <td>Jan Gunnarsson</td>\n",
       "      <td>[5, 2, 2]</td>\n",
       "    </tr>\n",
       "    <tr>\n",
       "      <th>3</th>\n",
       "      <td>1989 a</td>\n",
       "      <td>5</td>\n",
       "      <td>Q\\r\\n</td>\n",
       "      <td>Goran Ivanišević</td>\n",
       "      <td>[5, 0, 3]</td>\n",
       "      <td>9\\r\\n</td>\n",
       "      <td>Miloslav Mečíř</td>\n",
       "      <td>[7, 6, 6]</td>\n",
       "    </tr>\n",
       "    <tr>\n",
       "      <th>4</th>\n",
       "      <td>1989 a</td>\n",
       "      <td>5</td>\n",
       "      <td>14\\r\\n</td>\n",
       "      <td>Jonas Svensson</td>\n",
       "      <td>[0, 3, 6, 4]</td>\n",
       "      <td>\\r\\n</td>\n",
       "      <td>Jan Gunnarsson</td>\n",
       "      <td>[6, 6, 4, 6]</td>\n",
       "    </tr>\n",
       "  </tbody>\n",
       "</table>\n",
       "</div>"
      ],
      "text/plain": [
       "  Grand Slam  Round Player 1 Rating          Player 1 Player 1 Score  \\\n",
       "0     1989 a      7           9\\r\\n    Miloslav Mečíř      [2, 2, 2]   \n",
       "1     1989 a      6          11\\r\\n     Thomas Muster   [2, 4, 7, 5]   \n",
       "2     1989 a      6           9\\r\\n    Miloslav Mečíř      [7, 6, 6]   \n",
       "3     1989 a      5           Q\\r\\n  Goran Ivanišević      [5, 0, 3]   \n",
       "4     1989 a      5          14\\r\\n    Jonas Svensson   [0, 3, 6, 4]   \n",
       "\n",
       "  Player 2 Rating        Player 2 Player 2 Score  \n",
       "0           2\\r\\n      Ivan Lendl      [6, 6, 6]  \n",
       "1           2\\r\\n      Ivan Lendl   [6, 6, 5, 7]  \n",
       "2            \\r\\n  Jan Gunnarsson      [5, 2, 2]  \n",
       "3           9\\r\\n  Miloslav Mečíř      [7, 6, 6]  \n",
       "4            \\r\\n  Jan Gunnarsson   [6, 6, 4, 6]  "
      ]
     },
     "execution_count": 4,
     "metadata": {},
     "output_type": "execute_result"
    }
   ],
   "source": [
    "df.head()"
   ]
  },
  {
   "cell_type": "markdown",
   "metadata": {},
   "source": [
    "### b) Define 14 functions to alter and add columns in df:\n",
    "    convert_rating: Takes a rating string in and returns an integer. \n",
    "    \n",
    "    comeback: Figure out if there was a 5 set comeback in the match and whether it was done by player 1 or player 2.\n",
    "    \n",
    "    comeback3: Figure out if there was a 3 set comeback in the match and whether it was done by player 1 or player 2.\n",
    "    \n",
    "    win: Returns whatever player won.\n",
    "    \n",
    "    rated_winner: Returns whether the higher rated player won or not.\n",
    "    \n",
    "    win3: Returns whatever player was winning after 3 sets.\n",
    "    \n",
    "    rated_winner3: Returns whether the higher rated player was winning after 3 sets or not.\n",
    "    \n",
    "    win1: Returns whatever player was winning after 1 set.\n",
    "    \n",
    "    rate_win1: Returns whether the higher rated player was winning after 1 set or not.\n",
    "    \n",
    "    rated_comeback5: Returns whether the higher rated player or the lower rated player made a 5-set comeback.\n",
    "    \n",
    "    rated_comeback3: Returns whether the higher rated player or the lower rated player made a 3-set comeback.\n",
    "    \n",
    "    match_length: Returns the number of sets in a match.\n",
    "    \n",
    "    match_length3: Returns the length of the match in sets (if the match had been best of 3 sets).\n",
    "    \n",
    "    rating_diff: Returns the difference in rating between players. "
   ]
  },
  {
   "cell_type": "code",
   "execution_count": 5,
   "metadata": {},
   "outputs": [],
   "source": [
    "def convert_rating(rating):\n",
    "    '''\n",
    "    Takes a rating string in and returns an integer. \n",
    "    \n",
    "    The columns Player 1 Rating and Player 2 Rating are strings which contain an integer,\n",
    "    letters, or nothing. If it contains an integer, we need to convert the string to this integer.\n",
    "    If it contains letters, then we will return 100. If it contains nothing, then we will return 100.\n",
    "    If a player is rated above 32, then there was a last minute withdrawal from the tournament. Replace\n",
    "    this player's rating with 32.\n",
    "    \n",
    "    Parameters:\n",
    "    rating (string): \n",
    "    If string contains an integer, return the integer.\n",
    "    If string contains nothing, then the player is not rated, return 100.\n",
    "    If string contains letters, then the player is not rated, return 100.\n",
    "    \n",
    "    Returns:\n",
    "    Returns the rating of the player. If unrated, returns 100.\n",
    "    '''\n",
    "    dig=''.join([num for num in rating if num.isdigit()])\n",
    "    if not dig:\n",
    "        return 100\n",
    "    if int(dig)>32:\n",
    "        return 32\n",
    "    return int(dig)"
   ]
  },
  {
   "cell_type": "code",
   "execution_count": 6,
   "metadata": {},
   "outputs": [],
   "source": [
    "def comeback(sets1,sets2):\n",
    "    '''\n",
    "    Figure out if there was a 5 set comeback in the match and whether it was done by player 1\n",
    "    or player 2.\n",
    "    \n",
    "    If either player 1 or player 2 were winning 2-1 and then ended up losing 2-3, then the match\n",
    "    contained a 5 set comeback. If one of the players got injured during the fifth set, then the\n",
    "    player who was injured will be considered to have lost the set.\n",
    "    \n",
    "    Parameters:\n",
    "    sets1 (list): Score for player 1. The values in the string are from each set.\n",
    "    sets2 (list): Score for player 2. The values in the string are from each set.\n",
    "    \n",
    "    Returns:\n",
    "    int: 1 if player 1 completed a 5 set comeback, -1 if player 2 did, and 0 if neither did.\n",
    "    \n",
    "    Example:\n",
    "    sets1=[0,6,0,6,6]\n",
    "    sets2=[6,0,6,0,0]\n",
    "    returns 1\n",
    "    \n",
    "    Example 2:\n",
    "    sets1=[0,6,0,0]\n",
    "    sets2=[6,0,6,6]\n",
    "    returns 0\n",
    "    \n",
    "    Example 3:\n",
    "    sets1=[0,6,6,0]\n",
    "    sets2=[6,0,0,6,3]\n",
    "    returns -1\n",
    "    '''\n",
    "    sets1=np.array(sets1)\n",
    "    sets2=np.array(sets2)\n",
    "    if len(sets1)<=4:\n",
    "        return 0\n",
    "    if len(sets1)>len(sets2):# or any(sets1==sets2):\n",
    "        sets1[4]=6\n",
    "        sets2=np.append(sets2,0)\n",
    "    elif len(sets1)<len(sets2):\n",
    "        sets1=np.append(sets1,0)\n",
    "        sets2[4]=6\n",
    "    if len(sets1)==5:\n",
    "        sets_truthy=sets1>sets2\n",
    "        sets_truthy2=sets2>sets1\n",
    "        if np.sum(sets_truthy[0:3])==2 and np.sum(sets_truthy)==2:\n",
    "            return -1\n",
    "        elif np.sum(sets_truthy2[0:3])==2 and np.sum(sets_truthy2)==2:\n",
    "            return 1\n",
    "        else:\n",
    "            return 0"
   ]
  },
  {
   "cell_type": "code",
   "execution_count": 7,
   "metadata": {},
   "outputs": [
    {
     "data": {
      "text/plain": [
       "1"
      ]
     },
     "execution_count": 7,
     "metadata": {},
     "output_type": "execute_result"
    }
   ],
   "source": [
    "##test function comeback.\n",
    "a=[0,6,0,6,6]\n",
    "b=[6,0,6,0,0]\n",
    "a=np.array(a)\n",
    "b=np.array(b)\n",
    "comeback(a,b)"
   ]
  },
  {
   "cell_type": "code",
   "execution_count": 8,
   "metadata": {},
   "outputs": [],
   "source": [
    "def comeback3(sets1,sets2):\n",
    "    '''\n",
    "    Figure out if there was a 3 set comeback in the match and whether it was done by player 1\n",
    "    or player 2.\n",
    "    \n",
    "    If either player 1 or player 2 were winning 1-0 and then ended up losing 1-2, then the match\n",
    "    contained a 3 set comeback. If one of the players got injured during the third set, then the\n",
    "    player who was injured will be considered to have lost the set.\n",
    "    \n",
    "    Parameters:\n",
    "    sets1 (list): Score for player 1. The values in the string are from each set.\n",
    "    sets2 (list): Score for player 2. The values in the string are from each set.\n",
    "    \n",
    "    Returns:\n",
    "    int: 1 if player 1 completed a 5 set comeback, -1 if player 2 did, and 0 if neither did.\n",
    "    \n",
    "    Example:\n",
    "    sets1=[0,6,6,0,0]\n",
    "    sets2=[6,0,0,6,6]\n",
    "    returns 1\n",
    "    \n",
    "    Example 2:\n",
    "    sets1=[0,6,0,0]\n",
    "    sets2=[6,0,6,6]\n",
    "    returns 0\n",
    "    \n",
    "    Example 3:\n",
    "    sets1=[6,0,0,6,3]\n",
    "    sets2=[0,6,6,0]\n",
    "    returns -1\n",
    "    '''\n",
    "    sets1=np.array(sets1)\n",
    "    sets2=np.array(sets2)\n",
    "    if len(sets1)<=2:\n",
    "        return 0\n",
    "    if len(sets1)>len(sets2):#Fix the injured players.\n",
    "        sets1[-1]=6\n",
    "        sets2=np.append(sets2,0)\n",
    "    elif len(sets1)<len(sets2):\n",
    "        sets1=np.append(sets1,0)\n",
    "        sets2[-1]=6\n",
    "    sets_truthy=sets1>sets2\n",
    "    sets_truthy2=sets2>sets1\n",
    "    if np.sum(sets_truthy[0])==1 and np.sum(sets_truthy[0:3])==1:\n",
    "        return -1\n",
    "    elif np.sum(sets_truthy2[0])==1 and np.sum(sets_truthy2[0:3])==1:\n",
    "        return 1\n",
    "    else:\n",
    "        return 0"
   ]
  },
  {
   "cell_type": "code",
   "execution_count": 9,
   "metadata": {},
   "outputs": [
    {
     "data": {
      "text/plain": [
       "1"
      ]
     },
     "execution_count": 9,
     "metadata": {},
     "output_type": "execute_result"
    }
   ],
   "source": [
    "##test function comeback.\n",
    "a=[0,6,6,0,0]\n",
    "b=[6,0,0,6,6]\n",
    "a=np.array(a)\n",
    "b=np.array(b)\n",
    "comeback3(a,b)"
   ]
  },
  {
   "cell_type": "code",
   "execution_count": 10,
   "metadata": {},
   "outputs": [],
   "source": [
    "def win(score1,score2):\n",
    "    '''\n",
    "    Returns whatever player won.\n",
    "    \n",
    "    Returns a 1 if player 1 won, a -1 if player 2 won. Returns a 0 if one of the\n",
    "    players got injured in the first set or defaulted before the match started.\n",
    "    \n",
    "    Parameters:\n",
    "    score1 (list): Score for player 1. The values in the string are from each set.\n",
    "    score2 (list): Score for player 2. The values in the string are from each set.\n",
    "    \n",
    "    Returns:\n",
    "    int: 1 if player 1 won, -1 if player 2 won.\n",
    "    \n",
    "    Example:\n",
    "    sets1=[0,6,6,0,0]\n",
    "    sets2=[6,0,0,6,6]\n",
    "    returns -1\n",
    "    \n",
    "    Example 2:\n",
    "    sets1=[6,0,0,6,3]\n",
    "    sets2=[0,6,6,0]\n",
    "    returns 1\n",
    "    '''\n",
    "    score1=np.array(score1)\n",
    "    score2=np.array(score2)\n",
    "    if len(score1)>len(score2):\n",
    "        return 1\n",
    "    elif len(score1)<len(score2):\n",
    "        return -1\n",
    "    elif len(score1)==0 or len(score2)==0:\n",
    "        return 0\n",
    "    elif score1[-1]>score2[-1]:\n",
    "        return 1\n",
    "    elif score1[-1]<score2[-1]:\n",
    "        return -1"
   ]
  },
  {
   "cell_type": "code",
   "execution_count": 11,
   "metadata": {},
   "outputs": [
    {
     "data": {
      "text/plain": [
       "-1"
      ]
     },
     "execution_count": 11,
     "metadata": {},
     "output_type": "execute_result"
    }
   ],
   "source": [
    "win([2, 2, 2],[6, 6, 6])#test win function:"
   ]
  },
  {
   "cell_type": "code",
   "execution_count": 12,
   "metadata": {},
   "outputs": [],
   "source": [
    "def rated_winner(rate1,rate2,winner):\n",
    "    '''\n",
    "    Returns whether the higher rated player won or not.\n",
    "    \n",
    "    Returns a 1 if the higher rated player won, a -1 if the lower rated player\n",
    "    won and a 0 if the players had the same rating (i.e. no rating)\n",
    "    \n",
    "    Parameters:\n",
    "    rate1 (int): Player 1's rating\n",
    "    rate2 (int): Player 2's rating\n",
    "    winner (int): 1 if player 1 won, -1 if player 2 won\n",
    "    \n",
    "    Returns:\n",
    "    int: 1 if the higher rated player won, -1 if the lower rated player won,\n",
    "    and 0 if the players had the same rating.\n",
    "    \n",
    "    Example:\n",
    "    rate1=1\n",
    "    rate2=32\n",
    "    winner=1\n",
    "    returns 1\n",
    "    \n",
    "    Example 2:\n",
    "    rate1=32\n",
    "    rate2=1\n",
    "    winner=-1\n",
    "    returns 1\n",
    "    \n",
    "    Example 3:\n",
    "    rate1=1\n",
    "    rate2=32\n",
    "    winner=-1\n",
    "    returns -1\n",
    "    '''    \n",
    "    if rate1==rate2:\n",
    "        return 0\n",
    "    elif rate1<rate2 and winner==1:\n",
    "        return 1\n",
    "    elif rate1>rate2 and winner==-1:\n",
    "        return 1\n",
    "    return -1"
   ]
  },
  {
   "cell_type": "code",
   "execution_count": 13,
   "metadata": {},
   "outputs": [
    {
     "data": {
      "text/plain": [
       "1"
      ]
     },
     "execution_count": 13,
     "metadata": {},
     "output_type": "execute_result"
    }
   ],
   "source": [
    "#test rated_winner function:\n",
    "rated_winner(32,1,-1)"
   ]
  },
  {
   "cell_type": "code",
   "execution_count": 14,
   "metadata": {},
   "outputs": [],
   "source": [
    "def win3(score1,score2):\n",
    "    '''\n",
    "    Returns whatever player was winning after 3 sets.\n",
    "    \n",
    "    Returns a 1 if player 1 was winning after 3 sets, a -1 if player 2 was winning\n",
    "    after 3 sets.\n",
    "    \n",
    "    Parameters:\n",
    "    score1 (list): Score for player 1. The values in the string are from each set.\n",
    "    score2 (list): Score for player 2. The values in the string are from each set.\n",
    "    \n",
    "    Returns:\n",
    "    int: 1 if player 1 was winning after 3 sets, -1 if player 2 was winning after\n",
    "    3 sets.\n",
    "    \n",
    "    Example:\n",
    "    sets1=[0,6,6,0,0]\n",
    "    sets2=[6,0,0,6,6]\n",
    "    returns 1\n",
    "    \n",
    "    Example 2:\n",
    "    sets1=[6,0,0,6,3]\n",
    "    sets2=[0,6,6,0]\n",
    "    returns -1\n",
    "    '''\n",
    "    score1=np.array(score1)\n",
    "    score2=np.array(score2)\n",
    "    if len(score1)<2 or len(score2)<2: #deal with injuries before 2 sets could be played\n",
    "        if len(score1)>len(score2):\n",
    "            return 1\n",
    "        elif len(score1)<len(score2):\n",
    "            return -1\n",
    "    if len(score1)>len(score2): #for matches with injuries with 2 sets played, and the player retires in set 3,4 or 5, make that player's last set=-1\n",
    "        score2=np.append(score2,-1)\n",
    "    elif len(score1)<len(score2):\n",
    "        score1=np.append(score1,-1)\n",
    "    true_score3=score1>score2 #Compare matches with 2 or more sets.\n",
    "    if len(true_score3)==2: #Matches with 2 sets, compare only first two sets scores.\n",
    "        if sum(true_score3)==2:\n",
    "            return 1\n",
    "        return -1\n",
    "    if sum(true_score3[0:3])>=2: #Matches with 3,4, or 5 sets, compare first 3 sets scores.\n",
    "        return 1\n",
    "    return -1"
   ]
  },
  {
   "cell_type": "code",
   "execution_count": 15,
   "metadata": {},
   "outputs": [
    {
     "data": {
      "text/plain": [
       "1"
      ]
     },
     "execution_count": 15,
     "metadata": {},
     "output_type": "execute_result"
    }
   ],
   "source": [
    "#test win3 function:\n",
    "win3([2,6,2,6],[6,0,6,0,0])\n",
    "win3([6,6,6],[0,0,0])\n",
    "win3([2,6,2,6,6],[6,0,6,0,0])\n",
    "win3([6,6],[0,0,4])"
   ]
  },
  {
   "cell_type": "code",
   "execution_count": 16,
   "metadata": {},
   "outputs": [],
   "source": [
    "def rated_winner3(rate1,rate2,winner):\n",
    "    '''\n",
    "    Returns whether the higher rated player was winning after 3 sets or not.\n",
    "    \n",
    "    Returns a 1 if the higher rated player was winning after 3 sets, a -1 if \n",
    "    the lower rated player was winning after 3 sets, and a 0 if the players \n",
    "    had the same rating (i.e. no rating)\n",
    "    \n",
    "    Parameters:\n",
    "    rate1 (int): Player 1's rating\n",
    "    rate2 (int): Player 2's rating\n",
    "    winner (int): 1 if player 1 was winning, -1 if player 2 was winning\n",
    "    \n",
    "    Returns:\n",
    "    int: 1 if the higher rated player was winning, -1 if the lower rated player \n",
    "    was winning, and 0 if the players had the same rating.\n",
    "    \n",
    "    Example:\n",
    "    rate1=1\n",
    "    rate2=32\n",
    "    winner=1\n",
    "    returns 1\n",
    "    \n",
    "    Example 2:\n",
    "    rate1=32\n",
    "    rate2=1\n",
    "    winner=-1\n",
    "    returns 1\n",
    "    \n",
    "    Example 3:\n",
    "    rate1=1\n",
    "    rate2=32\n",
    "    winner=-1\n",
    "    returns -1\n",
    "    '''    \n",
    "    if rate1==rate2:\n",
    "        return 0\n",
    "    elif rate1<rate2 and winner==1:\n",
    "        return 1\n",
    "    elif rate1>rate2 and winner==-1:\n",
    "        return 1\n",
    "    return -1"
   ]
  },
  {
   "cell_type": "code",
   "execution_count": 17,
   "metadata": {},
   "outputs": [
    {
     "data": {
      "text/plain": [
       "1"
      ]
     },
     "execution_count": 17,
     "metadata": {},
     "output_type": "execute_result"
    }
   ],
   "source": [
    "#test rated_winner function:\n",
    "rated_winner(10,1,-1)"
   ]
  },
  {
   "cell_type": "code",
   "execution_count": 18,
   "metadata": {},
   "outputs": [],
   "source": [
    "def win1(score1,score2):\n",
    "    '''\n",
    "    Returns whatever player was winning after 1 set.\n",
    "    \n",
    "    Returns a 1 if player 1 was winning after 1 set, a -1 if player 2 was winning\n",
    "    after 1 set.\n",
    "    \n",
    "    Parameters:\n",
    "    score1 (list): Score for player 1. The values in the string are from each set.\n",
    "    score2 (list): Score for player 2. The values in the string are from each set.\n",
    "    \n",
    "    Returns:\n",
    "    int: 1 if player 1 was winning after 1 set, -1 if player 2 was winning after\n",
    "    1 set.\n",
    "    \n",
    "    Example:\n",
    "    sets1=[0,6,6,0,0]\n",
    "    sets2=[6,0,0,6,6]\n",
    "    returns -1\n",
    "    \n",
    "    Example 2:\n",
    "    sets1=[6,0,0,6,3]\n",
    "    sets2=[0,6,6,0]\n",
    "    returns 1\n",
    "    '''\n",
    "    score1=np.array(score1)\n",
    "    score2=np.array(score2)\n",
    "    if len(score1)<1 or len(score2)<1:\n",
    "        return 0\n",
    "    if score1[0]>score2[0]:\n",
    "        return 1\n",
    "    else:\n",
    "        return -1"
   ]
  },
  {
   "cell_type": "code",
   "execution_count": 19,
   "metadata": {},
   "outputs": [
    {
     "data": {
      "text/plain": [
       "1"
      ]
     },
     "execution_count": 19,
     "metadata": {},
     "output_type": "execute_result"
    }
   ],
   "source": [
    "#test win1:\n",
    "win1([0],[])\n",
    "win1([0,6,6,0],[6,0,0,6,6])\n",
    "win1([6,0,6,0,0],[0,6,0,6,6])"
   ]
  },
  {
   "cell_type": "code",
   "execution_count": 20,
   "metadata": {},
   "outputs": [],
   "source": [
    "def rate_win1(rate1,rate2,winner1):\n",
    "    '''\n",
    "    Returns whether the higher rated player was winning after 1 set or not.\n",
    "    \n",
    "    Returns a 1 if the higher rated player was winning after 1 set, a -1 if \n",
    "    the lower rated player was winning after 1 set, and a 0 if the players \n",
    "    had the same rating (i.e. no rating)\n",
    "    \n",
    "    Parameters:\n",
    "    rate1 (int): Player 1's rating\n",
    "    rate2 (int): Player 2's rating\n",
    "    winner (int): 1 if player 1 was winning, -1 if player 2 was winning\n",
    "    \n",
    "    Returns:\n",
    "    int: 1 if the higher rated player was winning, -1 if the lower rated player \n",
    "    was winning, and 0 if the players had the same rating.\n",
    "    \n",
    "    Example:\n",
    "    rate1=1\n",
    "    rate2=32\n",
    "    winner1=1\n",
    "    returns 1\n",
    "    \n",
    "    Example 2:\n",
    "    rate1=32\n",
    "    rate2=1\n",
    "    winner1=-1\n",
    "    returns 1\n",
    "    \n",
    "    Example 3:\n",
    "    rate1=1\n",
    "    rate2=32\n",
    "    winner1=-1\n",
    "    returns -1\n",
    "    '''    \n",
    "    if winner1==0:\n",
    "        return 0\n",
    "    if winner1==1:\n",
    "        if rate1>rate2:#player 2 rating higher rated than player 1 but player 1 wins, -1.\n",
    "            return -1\n",
    "        elif rate1<rate2:\n",
    "            return 1\n",
    "        else:\n",
    "            return 0\n",
    "    if winner1==-1:\n",
    "        if rate1>rate2:\n",
    "            return 1\n",
    "        elif rate1<rate2:\n",
    "            return -1\n",
    "        else:\n",
    "            return 0"
   ]
  },
  {
   "cell_type": "code",
   "execution_count": 21,
   "metadata": {},
   "outputs": [
    {
     "data": {
      "text/plain": [
       "-1"
      ]
     },
     "execution_count": 21,
     "metadata": {},
     "output_type": "execute_result"
    }
   ],
   "source": [
    "def rated_comeback5(rate1,rate2,comeback5):\n",
    "    '''\n",
    "    Returns an integer representing whether the higher rated player or the lower \n",
    "    rated player made a 5-set comeback.\n",
    "    \n",
    "    Returns a 1 if the higher rated player made a 5 set comeback, a -1 if the \n",
    "    lower rated player made a 5 set comeback, and a 0 if neither happened.\n",
    "    \n",
    "    Parameters:\n",
    "    rate1 (int): Player 1's rating\n",
    "    rate2 (int): Player 2's rating\n",
    "    comeback5 (int): 1 if player 1 made a 5 set comeback, -1 if player 2 did,\n",
    "    and a 0 if there was no 5 set comeback in the match\n",
    "    \n",
    "    Returns:\n",
    "    int: 1 if the higher rated player made a 5 set comeback, -1 if player 2 did,\n",
    "    and 0 if the players had the same rating or neither player made a 5 set \n",
    "    comeback.\n",
    "    \n",
    "    Example:\n",
    "    rate1=1\n",
    "    rate2=32\n",
    "    comeback5=1\n",
    "    returns 1\n",
    "    \n",
    "    Example 2:\n",
    "    rate1=1\n",
    "    rate2=32\n",
    "    comeback5=-1\n",
    "    returns -1\n",
    "    '''   \n",
    "    if rate1==rate2 or comeback5==0:\n",
    "        return 0\n",
    "    elif rate1<rate2 and comeback5==1:\n",
    "        return 1\n",
    "    elif rate1>rate2 and comeback5==-1:\n",
    "        return 1\n",
    "    return -1\n",
    "rated_comeback5(1,10,-1) #tested all 5 scenarios."
   ]
  },
  {
   "cell_type": "code",
   "execution_count": 22,
   "metadata": {},
   "outputs": [],
   "source": [
    "def rated_comeback3(rate1,rate2,comeback3):\n",
    "    '''\n",
    "    Returns an integer representing whether the higher rated player or the lower \n",
    "    rated player made a 3-set comeback.\n",
    "    \n",
    "    Returns a 1 if the higher rated player made a 3 set comeback, a -1 if the \n",
    "    lower rated player made a 3 set comeback, and a 0 if neither happened.\n",
    "    \n",
    "    Parameters:\n",
    "    rate1 (int): Player 1's rating\n",
    "    rate2 (int): Player 2's rating\n",
    "    comeback3 (int): 1 if player 1 made a 3 set comeback, -1 if player 2 did,\n",
    "    and a 0 if there was no 3 set comeback in the match\n",
    "    \n",
    "    Returns:\n",
    "    int: 1 if the higher rated player made a 3 set comeback, -1 if player 2 did,\n",
    "    and 0 if the players had the same rating or neither player made a 3 set \n",
    "    comeback.\n",
    "    \n",
    "    Example:\n",
    "    rate1=1\n",
    "    rate2=32\n",
    "    comeback3=1\n",
    "    returns 1\n",
    "    \n",
    "    Example 2:\n",
    "    rate1=1\n",
    "    rate2=32\n",
    "    comeback3=-1\n",
    "    returns -1\n",
    "    '''   \n",
    "    if rate1==rate2 or comeback3==0:\n",
    "        return 0\n",
    "    elif rate1<rate2 and comeback3==1:\n",
    "        return 1\n",
    "    elif rate1>rate2 and comeback3==-1:\n",
    "        return 1\n",
    "    return -1"
   ]
  },
  {
   "cell_type": "code",
   "execution_count": 23,
   "metadata": {},
   "outputs": [
    {
     "data": {
      "text/plain": [
       "-1"
      ]
     },
     "execution_count": 23,
     "metadata": {},
     "output_type": "execute_result"
    }
   ],
   "source": [
    "rated_comeback3(1,10,-1) #tested all 5 scenarios."
   ]
  },
  {
   "cell_type": "code",
   "execution_count": 24,
   "metadata": {},
   "outputs": [],
   "source": [
    "def match_length(score1,score2):\n",
    "    '''\n",
    "    Returns the number of sets in a match.\n",
    "    '''\n",
    "    return max(len(score1),len(score2))"
   ]
  },
  {
   "cell_type": "code",
   "execution_count": 25,
   "metadata": {},
   "outputs": [
    {
     "data": {
      "text/plain": [
       "5"
      ]
     },
     "execution_count": 25,
     "metadata": {},
     "output_type": "execute_result"
    }
   ],
   "source": [
    "match_length([2, 4, 7, 5],[3, 4, 6, 6, 6]) #test match_length"
   ]
  },
  {
   "cell_type": "code",
   "execution_count": 26,
   "metadata": {},
   "outputs": [],
   "source": [
    "def match_length3(score1,score2):\n",
    "    '''\n",
    "    Returns the length of the match (in sets) if the match had been best of 3 sets.\n",
    "    \n",
    "    Parameters:\n",
    "    score1 (list): Score for player 1. The values in the string are from each set.\n",
    "    score2 (list): Score for player 2. The values in the string are from each set.\n",
    "    \n",
    "    Returns: \n",
    "    int: Returns a 2 if the first 2 sets were won by 1 player, returns a 3 if the \n",
    "    first 2 sets were split, returns a 1 or 2 if a player was injured in the first\n",
    "    or second sets respectively.\n",
    "    '''\n",
    "    score1=np.array(score1)\n",
    "    score2=np.array(score2)\n",
    "    if len(score1)<2 or len(score2)<2: #deal with injuries before 2 sets could be played\n",
    "        if len(score1)>len(score2):\n",
    "            return max(len(score1),len(score2))\n",
    "        elif len(score1)<len(score2):\n",
    "            return max(len(score1),len(score2))\n",
    "    if len(score1)>len(score2): #for matches with injuries with 2 sets played, and the player retires in set 3,4 or 5, make that player's last set=-1\n",
    "        score2=np.append(score2,-1)\n",
    "    elif len(score1)<len(score2):\n",
    "        score1=np.append(score1,-1)\n",
    "    true_score3=score1>score2 #Compare matches with 2 or more sets.\n",
    "    if len(true_score3)<2:\n",
    "        return len(true_score3)\n",
    "    elif len(true_score3)==2: #Matches with 2 sets, compare only first two sets scores.\n",
    "        if sum(true_score3)==2:\n",
    "            return 2\n",
    "        return 2\n",
    "    if sum(true_score3[0:3])>=2: #Matches with 3,4, or 5 sets, compare first 3 sets scores.\n",
    "        if true_score3[0]!=true_score3[1]:\n",
    "            return 3\n",
    "        else:\n",
    "            return 2\n",
    "    else:\n",
    "        if true_score3[0]!=true_score3[1]:\n",
    "            return 3\n",
    "        else:\n",
    "            return 2"
   ]
  },
  {
   "cell_type": "code",
   "execution_count": 27,
   "metadata": {
    "scrolled": false
   },
   "outputs": [
    {
     "name": "stdout",
     "output_type": "stream",
     "text": [
      "3\n",
      "2\n",
      "3\n",
      "2\n",
      "2\n"
     ]
    }
   ],
   "source": [
    "#test match_length3 function:\n",
    "print(match_length3([2,6,2,6],[6,0,6,0,0]))\n",
    "print(match_length3([6,6,6],[0,0,0]))\n",
    "print(match_length3([2,6,2,6,6],[6,0,6,0,0]))\n",
    "print(match_length3([6,6],[0,0,4]))\n",
    "print(match_length3([6,4],[0]))"
   ]
  },
  {
   "cell_type": "code",
   "execution_count": 28,
   "metadata": {},
   "outputs": [],
   "source": [
    "def rating_diff(rate1,rate2):\n",
    "    '''\n",
    "    Returns the difference in rating between players. \n",
    "    \n",
    "    Parameters:\n",
    "    rate1 (int): Rating for player 1.\n",
    "    rate2 (list): Rating for player 2.\n",
    "    \n",
    "    Returns: \n",
    "    int: Returns the difference in rating between players 1 and 2\n",
    "    '''\n",
    "    return abs(rate1-rate2)"
   ]
  },
  {
   "cell_type": "markdown",
   "metadata": {},
   "source": [
    "## c) Make new columns by executing the functions defined above:"
   ]
  },
  {
   "cell_type": "code",
   "execution_count": 29,
   "metadata": {},
   "outputs": [],
   "source": [
    "# Use the convert_rating function to convert the player rating columns into integers:\n",
    "df['Player 1 Rating']=df['Player 1 Rating'].apply(convert_rating)\n",
    "df['Player 2 Rating']=df['Player 2 Rating'].apply(convert_rating)"
   ]
  },
  {
   "cell_type": "code",
   "execution_count": 30,
   "metadata": {},
   "outputs": [],
   "source": [
    "# Use the comeback function to make a column representing whether player # 1 or player # 2 completed a 5 set comeback:\n",
    "df['5-set Comeback']=df.apply(lambda x: comeback(x['Player 1 Score'],x['Player 2 Score']), axis=1)"
   ]
  },
  {
   "cell_type": "code",
   "execution_count": 31,
   "metadata": {},
   "outputs": [],
   "source": [
    "# Use the comeback3 function to make a column representing whether player # 1 or player # 2 completed a 3 set comeback:\n",
    "df['3-set Comeback']=df.apply(lambda x: comeback3(x['Player 1 Score'],x['Player 2 Score']), axis=1)"
   ]
  },
  {
   "cell_type": "code",
   "execution_count": 32,
   "metadata": {},
   "outputs": [],
   "source": [
    "# Use the win function to make a column representing whether player # 1 or player # 2 won the match:\n",
    "df['Winner']=df.apply(lambda x: win(x['Player 1 Score'],x['Player 2 Score']),axis=1)"
   ]
  },
  {
   "cell_type": "code",
   "execution_count": 33,
   "metadata": {},
   "outputs": [],
   "source": [
    "# Drop any match (row) where one of the players defaults in the first set or defaults the match before it started:\n",
    "df.drop(df[df['Winner']==0].index,inplace=True)"
   ]
  },
  {
   "cell_type": "code",
   "execution_count": 34,
   "metadata": {},
   "outputs": [],
   "source": [
    "# Use the rated_winner function to make a new column representing whether the higher or lower rated player won:\n",
    "df['Rated Winner']=df.apply(lambda x: rated_winner(x['Player 1 Rating'],x['Player 2 Rating'],x['Winner']),axis=1)"
   ]
  },
  {
   "cell_type": "code",
   "execution_count": 35,
   "metadata": {},
   "outputs": [],
   "source": [
    "# Use the win3 function to make a new column representing whether player # 1 or player # 2 was winning after 3 sets\n",
    "df['Winner 3']=df.apply(lambda x: win3(x['Player 1 Score'],x['Player 2 Score']),axis=1)"
   ]
  },
  {
   "cell_type": "code",
   "execution_count": 36,
   "metadata": {},
   "outputs": [],
   "source": [
    "# Use the rated_winner3 function to make a new column representing whether the higher or lower rated player was winning after 3 sets:\n",
    "df['Rated Winner 3']=df.apply(lambda x: rated_winner3(x['Player 1 Rating'],x['Player 2 Rating'],x['Winner 3']),axis=1)"
   ]
  },
  {
   "cell_type": "code",
   "execution_count": 37,
   "metadata": {},
   "outputs": [],
   "source": [
    "# Use the win1 function to make a column with an integer representing if player 1 or player 2 won the first set:\n",
    "df['Winner 1']=df.apply(lambda x: win1(x['Player 1 Score'],x['Player 2 Score']),axis=1)"
   ]
  },
  {
   "cell_type": "code",
   "execution_count": 38,
   "metadata": {},
   "outputs": [],
   "source": [
    "# Use the rate_win1 function to make a column representing whether the higher or lower rated player won the first set:\n",
    "df['Rated Winner 1']=df.apply(lambda x: rate_win1(x['Player 1 Rating'],x['Player 2 Rating'],x['Winner 1']),axis=1)"
   ]
  },
  {
   "cell_type": "code",
   "execution_count": 39,
   "metadata": {},
   "outputs": [],
   "source": [
    "# Use the rated_comeback5 function to make a column representing if the higher rated or lower rated player made a 5 set comeback.\n",
    "df['Rated 5-set Comeback']=df.apply(lambda x: rated_comeback5(x['Player 1 Rating'],x['Player 2 Rating'],x['5-set Comeback']),axis=1)"
   ]
  },
  {
   "cell_type": "code",
   "execution_count": 40,
   "metadata": {},
   "outputs": [],
   "source": [
    "# Use the rated_comeback3 function to make a column representing if the higher rated or lower rated player made a 3 set comeback.\n",
    "df['Rated 3-set Comeback']=df.apply(lambda x: rated_comeback3(x['Player 1 Rating'],x['Player 2 Rating'],x['3-set Comeback']),axis=1)"
   ]
  },
  {
   "cell_type": "code",
   "execution_count": 41,
   "metadata": {},
   "outputs": [],
   "source": [
    "# Use the match_length function to make a column with the length of each match.\n",
    "df['# of Sets']=df.apply(lambda x: match_length(x['Player 1 Score'],x['Player 2 Score']),axis=1)"
   ]
  },
  {
   "cell_type": "code",
   "execution_count": 42,
   "metadata": {},
   "outputs": [],
   "source": [
    "# Use the match_length3 function to make a column with the length of each match if the matches were best of 3 sets.\n",
    "df['# of Sets 3']=df.apply(lambda x: match_length3(x['Player 1 Score'],x['Player 2 Score']),axis=1)"
   ]
  },
  {
   "cell_type": "code",
   "execution_count": 43,
   "metadata": {},
   "outputs": [],
   "source": [
    "# Use the rating_diff function to make a column with the rating differential between the two players:\n",
    "df['Rating Differential']=df.apply(lambda x: rating_diff(x['Player 1 Rating'],x['Player 2 Rating']),axis=1)"
   ]
  },
  {
   "cell_type": "code",
   "execution_count": 44,
   "metadata": {},
   "outputs": [],
   "source": [
    "# Make a column with the rating of the player who won the match:\n",
    "df['Winner Rating']=df.apply(lambda x: x['Player 1 Rating'] if x['Winner']==1 else x['Player 2 Rating'],axis=1)"
   ]
  },
  {
   "cell_type": "code",
   "execution_count": 45,
   "metadata": {},
   "outputs": [
    {
     "data": {
      "text/html": [
       "<div>\n",
       "<style scoped>\n",
       "    .dataframe tbody tr th:only-of-type {\n",
       "        vertical-align: middle;\n",
       "    }\n",
       "\n",
       "    .dataframe tbody tr th {\n",
       "        vertical-align: top;\n",
       "    }\n",
       "\n",
       "    .dataframe thead th {\n",
       "        text-align: right;\n",
       "    }\n",
       "</style>\n",
       "<table border=\"1\" class=\"dataframe\">\n",
       "  <thead>\n",
       "    <tr style=\"text-align: right;\">\n",
       "      <th></th>\n",
       "      <th>Grand Slam</th>\n",
       "      <th>Round</th>\n",
       "      <th>Player 1 Rating</th>\n",
       "      <th>Player 1</th>\n",
       "      <th>Player 1 Score</th>\n",
       "      <th>Player 2 Rating</th>\n",
       "      <th>Player 2</th>\n",
       "      <th>Player 2 Score</th>\n",
       "      <th>5-set Comeback</th>\n",
       "      <th>3-set Comeback</th>\n",
       "      <th>...</th>\n",
       "      <th>Winner 3</th>\n",
       "      <th>Rated Winner 3</th>\n",
       "      <th>Winner 1</th>\n",
       "      <th>Rated Winner 1</th>\n",
       "      <th>Rated 5-set Comeback</th>\n",
       "      <th>Rated 3-set Comeback</th>\n",
       "      <th># of Sets</th>\n",
       "      <th># of Sets 3</th>\n",
       "      <th>Rating Differential</th>\n",
       "      <th>Winner Rating</th>\n",
       "    </tr>\n",
       "  </thead>\n",
       "  <tbody>\n",
       "    <tr>\n",
       "      <th>0</th>\n",
       "      <td>1989 a</td>\n",
       "      <td>7</td>\n",
       "      <td>9</td>\n",
       "      <td>Miloslav Mečíř</td>\n",
       "      <td>[2, 2, 2]</td>\n",
       "      <td>2</td>\n",
       "      <td>Ivan Lendl</td>\n",
       "      <td>[6, 6, 6]</td>\n",
       "      <td>0</td>\n",
       "      <td>0</td>\n",
       "      <td>...</td>\n",
       "      <td>-1</td>\n",
       "      <td>1</td>\n",
       "      <td>-1</td>\n",
       "      <td>1</td>\n",
       "      <td>0</td>\n",
       "      <td>0</td>\n",
       "      <td>3</td>\n",
       "      <td>2</td>\n",
       "      <td>7</td>\n",
       "      <td>2</td>\n",
       "    </tr>\n",
       "    <tr>\n",
       "      <th>1</th>\n",
       "      <td>1989 a</td>\n",
       "      <td>6</td>\n",
       "      <td>11</td>\n",
       "      <td>Thomas Muster</td>\n",
       "      <td>[2, 4, 7, 5]</td>\n",
       "      <td>2</td>\n",
       "      <td>Ivan Lendl</td>\n",
       "      <td>[6, 6, 5, 7]</td>\n",
       "      <td>0</td>\n",
       "      <td>0</td>\n",
       "      <td>...</td>\n",
       "      <td>-1</td>\n",
       "      <td>1</td>\n",
       "      <td>-1</td>\n",
       "      <td>1</td>\n",
       "      <td>0</td>\n",
       "      <td>0</td>\n",
       "      <td>4</td>\n",
       "      <td>2</td>\n",
       "      <td>9</td>\n",
       "      <td>2</td>\n",
       "    </tr>\n",
       "    <tr>\n",
       "      <th>2</th>\n",
       "      <td>1989 a</td>\n",
       "      <td>6</td>\n",
       "      <td>9</td>\n",
       "      <td>Miloslav Mečíř</td>\n",
       "      <td>[7, 6, 6]</td>\n",
       "      <td>100</td>\n",
       "      <td>Jan Gunnarsson</td>\n",
       "      <td>[5, 2, 2]</td>\n",
       "      <td>0</td>\n",
       "      <td>0</td>\n",
       "      <td>...</td>\n",
       "      <td>1</td>\n",
       "      <td>1</td>\n",
       "      <td>1</td>\n",
       "      <td>1</td>\n",
       "      <td>0</td>\n",
       "      <td>0</td>\n",
       "      <td>3</td>\n",
       "      <td>2</td>\n",
       "      <td>91</td>\n",
       "      <td>9</td>\n",
       "    </tr>\n",
       "    <tr>\n",
       "      <th>3</th>\n",
       "      <td>1989 a</td>\n",
       "      <td>5</td>\n",
       "      <td>100</td>\n",
       "      <td>Goran Ivanišević</td>\n",
       "      <td>[5, 0, 3]</td>\n",
       "      <td>9</td>\n",
       "      <td>Miloslav Mečíř</td>\n",
       "      <td>[7, 6, 6]</td>\n",
       "      <td>0</td>\n",
       "      <td>0</td>\n",
       "      <td>...</td>\n",
       "      <td>-1</td>\n",
       "      <td>1</td>\n",
       "      <td>-1</td>\n",
       "      <td>1</td>\n",
       "      <td>0</td>\n",
       "      <td>0</td>\n",
       "      <td>3</td>\n",
       "      <td>2</td>\n",
       "      <td>91</td>\n",
       "      <td>9</td>\n",
       "    </tr>\n",
       "    <tr>\n",
       "      <th>4</th>\n",
       "      <td>1989 a</td>\n",
       "      <td>5</td>\n",
       "      <td>14</td>\n",
       "      <td>Jonas Svensson</td>\n",
       "      <td>[0, 3, 6, 4]</td>\n",
       "      <td>100</td>\n",
       "      <td>Jan Gunnarsson</td>\n",
       "      <td>[6, 6, 4, 6]</td>\n",
       "      <td>0</td>\n",
       "      <td>0</td>\n",
       "      <td>...</td>\n",
       "      <td>-1</td>\n",
       "      <td>-1</td>\n",
       "      <td>-1</td>\n",
       "      <td>-1</td>\n",
       "      <td>0</td>\n",
       "      <td>0</td>\n",
       "      <td>4</td>\n",
       "      <td>2</td>\n",
       "      <td>86</td>\n",
       "      <td>100</td>\n",
       "    </tr>\n",
       "    <tr>\n",
       "      <th>...</th>\n",
       "      <td>...</td>\n",
       "      <td>...</td>\n",
       "      <td>...</td>\n",
       "      <td>...</td>\n",
       "      <td>...</td>\n",
       "      <td>...</td>\n",
       "      <td>...</td>\n",
       "      <td>...</td>\n",
       "      <td>...</td>\n",
       "      <td>...</td>\n",
       "      <td>...</td>\n",
       "      <td>...</td>\n",
       "      <td>...</td>\n",
       "      <td>...</td>\n",
       "      <td>...</td>\n",
       "      <td>...</td>\n",
       "      <td>...</td>\n",
       "      <td>...</td>\n",
       "      <td>...</td>\n",
       "      <td>...</td>\n",
       "      <td>...</td>\n",
       "    </tr>\n",
       "    <tr>\n",
       "      <th>15870</th>\n",
       "      <td>2020 a</td>\n",
       "      <td>1</td>\n",
       "      <td>100</td>\n",
       "      <td>M Cecchinato</td>\n",
       "      <td>[4, 64, 3]</td>\n",
       "      <td>7</td>\n",
       "      <td>A Zverev</td>\n",
       "      <td>[6, 77, 6]</td>\n",
       "      <td>0</td>\n",
       "      <td>0</td>\n",
       "      <td>...</td>\n",
       "      <td>-1</td>\n",
       "      <td>1</td>\n",
       "      <td>-1</td>\n",
       "      <td>1</td>\n",
       "      <td>0</td>\n",
       "      <td>0</td>\n",
       "      <td>3</td>\n",
       "      <td>2</td>\n",
       "      <td>93</td>\n",
       "      <td>7</td>\n",
       "    </tr>\n",
       "    <tr>\n",
       "      <th>15871</th>\n",
       "      <td>2020 a</td>\n",
       "      <td>1</td>\n",
       "      <td>100</td>\n",
       "      <td>C Ruud</td>\n",
       "      <td>[3, 66, 6, 6, 66]</td>\n",
       "      <td>100</td>\n",
       "      <td>E Gerasimov</td>\n",
       "      <td>[6, 78, 1, 4, 710]</td>\n",
       "      <td>0</td>\n",
       "      <td>0</td>\n",
       "      <td>...</td>\n",
       "      <td>-1</td>\n",
       "      <td>0</td>\n",
       "      <td>-1</td>\n",
       "      <td>0</td>\n",
       "      <td>0</td>\n",
       "      <td>0</td>\n",
       "      <td>5</td>\n",
       "      <td>2</td>\n",
       "      <td>0</td>\n",
       "      <td>100</td>\n",
       "    </tr>\n",
       "    <tr>\n",
       "      <th>15872</th>\n",
       "      <td>2020 a</td>\n",
       "      <td>1</td>\n",
       "      <td>100</td>\n",
       "      <td>F Verdasco</td>\n",
       "      <td>[7, 6, 6]</td>\n",
       "      <td>100</td>\n",
       "      <td>E Donskoy</td>\n",
       "      <td>[5, 2, 1]</td>\n",
       "      <td>0</td>\n",
       "      <td>0</td>\n",
       "      <td>...</td>\n",
       "      <td>1</td>\n",
       "      <td>0</td>\n",
       "      <td>1</td>\n",
       "      <td>0</td>\n",
       "      <td>0</td>\n",
       "      <td>0</td>\n",
       "      <td>3</td>\n",
       "      <td>2</td>\n",
       "      <td>0</td>\n",
       "      <td>100</td>\n",
       "    </tr>\n",
       "    <tr>\n",
       "      <th>15873</th>\n",
       "      <td>2020 a</td>\n",
       "      <td>1</td>\n",
       "      <td>26</td>\n",
       "      <td>N Basilashvili</td>\n",
       "      <td>[65, 6, 7, 3, 6]</td>\n",
       "      <td>100</td>\n",
       "      <td>S-w Kwon</td>\n",
       "      <td>[77, 4, 5, 6, 3]</td>\n",
       "      <td>0</td>\n",
       "      <td>1</td>\n",
       "      <td>...</td>\n",
       "      <td>1</td>\n",
       "      <td>1</td>\n",
       "      <td>-1</td>\n",
       "      <td>-1</td>\n",
       "      <td>0</td>\n",
       "      <td>1</td>\n",
       "      <td>5</td>\n",
       "      <td>3</td>\n",
       "      <td>74</td>\n",
       "      <td>26</td>\n",
       "    </tr>\n",
       "    <tr>\n",
       "      <th>15874</th>\n",
       "      <td>2020 a</td>\n",
       "      <td>1</td>\n",
       "      <td>100</td>\n",
       "      <td>J-L Struff</td>\n",
       "      <td>[65, 2, 6, 1]</td>\n",
       "      <td>2</td>\n",
       "      <td>N Djokovic</td>\n",
       "      <td>[77, 6, 2, 6]</td>\n",
       "      <td>0</td>\n",
       "      <td>0</td>\n",
       "      <td>...</td>\n",
       "      <td>-1</td>\n",
       "      <td>1</td>\n",
       "      <td>-1</td>\n",
       "      <td>1</td>\n",
       "      <td>0</td>\n",
       "      <td>0</td>\n",
       "      <td>4</td>\n",
       "      <td>2</td>\n",
       "      <td>98</td>\n",
       "      <td>2</td>\n",
       "    </tr>\n",
       "  </tbody>\n",
       "</table>\n",
       "<p>15834 rows × 22 columns</p>\n",
       "</div>"
      ],
      "text/plain": [
       "      Grand Slam  Round  Player 1 Rating          Player 1     Player 1 Score  \\\n",
       "0         1989 a      7                9    Miloslav Mečíř          [2, 2, 2]   \n",
       "1         1989 a      6               11     Thomas Muster       [2, 4, 7, 5]   \n",
       "2         1989 a      6                9    Miloslav Mečíř          [7, 6, 6]   \n",
       "3         1989 a      5              100  Goran Ivanišević          [5, 0, 3]   \n",
       "4         1989 a      5               14    Jonas Svensson       [0, 3, 6, 4]   \n",
       "...          ...    ...              ...               ...                ...   \n",
       "15870     2020 a      1              100      M Cecchinato         [4, 64, 3]   \n",
       "15871     2020 a      1              100            C Ruud  [3, 66, 6, 6, 66]   \n",
       "15872     2020 a      1              100        F Verdasco          [7, 6, 6]   \n",
       "15873     2020 a      1               26    N Basilashvili   [65, 6, 7, 3, 6]   \n",
       "15874     2020 a      1              100        J-L Struff      [65, 2, 6, 1]   \n",
       "\n",
       "       Player 2 Rating        Player 2      Player 2 Score  5-set Comeback  \\\n",
       "0                    2      Ivan Lendl           [6, 6, 6]               0   \n",
       "1                    2      Ivan Lendl        [6, 6, 5, 7]               0   \n",
       "2                  100  Jan Gunnarsson           [5, 2, 2]               0   \n",
       "3                    9  Miloslav Mečíř           [7, 6, 6]               0   \n",
       "4                  100  Jan Gunnarsson        [6, 6, 4, 6]               0   \n",
       "...                ...             ...                 ...             ...   \n",
       "15870                7        A Zverev          [6, 77, 6]               0   \n",
       "15871              100     E Gerasimov  [6, 78, 1, 4, 710]               0   \n",
       "15872              100       E Donskoy           [5, 2, 1]               0   \n",
       "15873              100        S-w Kwon    [77, 4, 5, 6, 3]               0   \n",
       "15874                2      N Djokovic       [77, 6, 2, 6]               0   \n",
       "\n",
       "       3-set Comeback  ...  Winner 3  Rated Winner 3  Winner 1  \\\n",
       "0                   0  ...        -1               1        -1   \n",
       "1                   0  ...        -1               1        -1   \n",
       "2                   0  ...         1               1         1   \n",
       "3                   0  ...        -1               1        -1   \n",
       "4                   0  ...        -1              -1        -1   \n",
       "...               ...  ...       ...             ...       ...   \n",
       "15870               0  ...        -1               1        -1   \n",
       "15871               0  ...        -1               0        -1   \n",
       "15872               0  ...         1               0         1   \n",
       "15873               1  ...         1               1        -1   \n",
       "15874               0  ...        -1               1        -1   \n",
       "\n",
       "       Rated Winner 1  Rated 5-set Comeback  Rated 3-set Comeback  # of Sets  \\\n",
       "0                   1                     0                     0          3   \n",
       "1                   1                     0                     0          4   \n",
       "2                   1                     0                     0          3   \n",
       "3                   1                     0                     0          3   \n",
       "4                  -1                     0                     0          4   \n",
       "...               ...                   ...                   ...        ...   \n",
       "15870               1                     0                     0          3   \n",
       "15871               0                     0                     0          5   \n",
       "15872               0                     0                     0          3   \n",
       "15873              -1                     0                     1          5   \n",
       "15874               1                     0                     0          4   \n",
       "\n",
       "       # of Sets 3  Rating Differential  Winner Rating  \n",
       "0                2                    7              2  \n",
       "1                2                    9              2  \n",
       "2                2                   91              9  \n",
       "3                2                   91              9  \n",
       "4                2                   86            100  \n",
       "...            ...                  ...            ...  \n",
       "15870            2                   93              7  \n",
       "15871            2                    0            100  \n",
       "15872            2                    0            100  \n",
       "15873            3                   74             26  \n",
       "15874            2                   98              2  \n",
       "\n",
       "[15834 rows x 22 columns]"
      ]
     },
     "execution_count": 45,
     "metadata": {},
     "output_type": "execute_result"
    }
   ],
   "source": [
    "#check to see newly made dataframe ready for analysis.\n",
    "df"
   ]
  },
  {
   "cell_type": "markdown",
   "metadata": {},
   "source": [
    "## 2) Plot distribution of match length (and 5 set comebacks) for all players:"
   ]
  },
  {
   "cell_type": "code",
   "execution_count": 46,
   "metadata": {},
   "outputs": [
    {
     "data": {
      "image/png": "[encoded data removed]",
      "text/plain": [
       "<Figure size 398.769x265.846 with 1 Axes>"
      ]
     },
     "metadata": {
      "needs_background": "light"
     },
     "output_type": "display_data"
    },
    {
     "name": "stdout",
     "output_type": "stream",
     "text": [
      "[49.42307692 31.43589744 19.14102564 10.37820513]\n"
     ]
    }
   ],
   "source": [
    "#Plot distribution of sets for entire tournament:\n",
    "\n",
    "plt.figure(figsize=(7.2/1.3, 4.8/1.3))\n",
    "xticks=['3 Sets', '4 Sets', '5 Sets', '5 Set\\nComeback', 'Higher Rated\\n5 Set\\nComeback']\n",
    "sets_dist=df['# of Sets'].value_counts()[0:3].values\n",
    "comeback_5sets=len(df[df['5-set Comeback']!=0])\n",
    "sets_comeback_dist=np.append(sets_dist,comeback_5sets)/sum(sets_dist)*100\n",
    "plt.bar(np.arange(4),height=sets_comeback_dist)\n",
    "plt.xticks(np.arange(4),labels=xticks[0:4])\n",
    "plt.ylabel('Total Matches (%)')\n",
    "plt.title('Grand Slam Matches from 1989-2020')\n",
    "plt.tight_layout()\n",
    "# plt.savefig('Figures/figure 2 Distribution of all matches.png', dpi=2000)\n",
    "plt.show()\n",
    "print(sets_comeback_dist)"
   ]
  },
  {
   "cell_type": "markdown",
   "metadata": {},
   "source": [
    "## 3) Evaluate fairness of best of 1, 3, and 5 sets\n",
    "A format is fairer if the better player is more likely to win. Here, I compare how often differently rated players win in best of 5, best of 3 and best of 1 set matches.\n",
    "\n",
    "a) Plot a scatter plot of the percentage of wins for the lower rated player (percentage of upsets) as a function of the difference in rating between players for best of 5, best of 3, and best of 1 set matches. \n",
    "\n",
    "b) Plot bar graphs to compare the number of 5 set comebacks for higher and lower rated players. The difference in percent of lower rated 5 set comebacks to higher rated 5 set comebacks gives a lower bound for the fairness increase of a 5 set match. Likewise for 3 set comebacks.\n",
    "\n",
    "c) Plot the upper and lower bounds for the increase in fairness of each change in format."
   ]
  },
  {
   "cell_type": "markdown",
   "metadata": {
    "scrolled": true
   },
   "source": [
    "### a) Plot lower rated player win % vs rating differential with 95% confidence intervals (binomial) on data points and linear fits using weights. Plot for 1, 3, and 5 sets."
   ]
  },
  {
   "cell_type": "markdown",
   "metadata": {},
   "source": [
    "Define functions for creating the plots:"
   ]
  },
  {
   "cell_type": "code",
   "execution_count": 47,
   "metadata": {},
   "outputs": [],
   "source": [
    "def error_bars(f):\n",
    "    '''Gets lower and upper error bars from confidence intervals (confidence intervals are binomial, so are asymmetric)'''\n",
    "    f['yerr-']=abs(f['CI'][0]-f['Percent Upsets']/100)*100\n",
    "    f['yerr+']=abs(f['CI'][1]-f['Percent Upsets']/100)*100\n",
    "    return f\n",
    "\n",
    "def f(x,m,b): \n",
    "    '''Defines the fitting function to be a linear curve'''\n",
    "    return m*x+b\n",
    "\n",
    "def create_df(name,df_rated_diff):\n",
    "    '''\n",
    "    Creates a new data frame to see how often the lower rated player wins as a function \n",
    "    of the rating difference between players\n",
    "    \n",
    "    Parameters:\n",
    "    name (string): String with the column name in the data frame representing\n",
    "    whether the higher or lower rated player won (e.g. 'Rated Winner 1')\n",
    "    df_rated_diff (dataframe): Data frame with all the same columns as df, but without \n",
    "    any unrated players in the matches.\n",
    "    \n",
    "    Output:\n",
    "    df_diff (dataframe). This is a data frame with the following columns:\n",
    "    - Rating Differential: Rating difference between players in any match.\n",
    "    - Rating Differential Totals: Total number of matches between players of that rating\n",
    "    differential.\n",
    "    - Rating Differential Lower Rated Wins: Total number of matches where the lower rated\n",
    "    player won in a match with that rating differential\n",
    "    - Percent Upsets: Percent of matches where the lower rated player won\n",
    "    - CI: Confidence interval on the percent upsets.\n",
    "    - yerr-: Lower error bar on the percent upsets.\n",
    "    - yerr+: Upper error bar on the percent upsets.\n",
    "    \n",
    "    '''\n",
    "    diff_totals=df_rated_diff['Rating Differential'].value_counts() #Total number of data points (used in calculating CI) organized by the differential in rating\n",
    "    low_diff_win5=df_rated_diff[df_rated_diff[name]==-1]['Rating Differential'].value_counts() # get all the wins for lower rated player organized by the differential in rating\n",
    "    df_diff = pd.concat([diff_totals,low_diff_win5], axis=1, sort=False) #put total matches and wins (two above variables) into a df\n",
    "    df_diff.fillna(0,inplace=True) #Fill win counts which are na with zeros.\n",
    "    df_diff.columns=['Rating Differential Totals','Rating Differential Lower Rated Wins'] #Name columns\n",
    "    #Percent of matches where the lower rated player wins (i.e. upsets):\n",
    "    df_diff['Percent Upsets']=df_diff.apply(lambda x: x['Rating Differential Lower Rated Wins']/x['Rating Differential Totals']*100,axis=1)\n",
    "    #The rating differential is equal to the index:\n",
    "    df_diff['Rating Differential']=df_diff.index\n",
    "    df_diff['CI']=df_diff.apply(lambda x: proportion_confint(count=x['Rating Differential Lower Rated Wins'], nobs=x['Rating Differential Totals'], method='binom_test', alpha=0.05),axis=1)\n",
    "    df_diff=df_diff.apply(error_bars,axis=1)\n",
    "    return df_diff\n",
    "\n",
    "def create_plot(color,alpha,legend,df_diff):\n",
    "    '''\n",
    "    Plots the percent upsets vs the rating differential of players with uncertainty bars\n",
    "    and a linear fit. Also prints the weighted average of the y values in the plot.\n",
    "    \n",
    "    Parameters:\n",
    "    color (string): String giving the color to use for the data in the plot.\n",
    "    alpha (ing): Integer giving the transparency of the data in the plot.\n",
    "    legend (string): String giving the name to put in the legend of the data.\n",
    "    df_diff (data frame): Data frame with how often the lower rated player wins as a \n",
    "    function of the rating difference between players\n",
    "    \n",
    "    Outputs:\n",
    "    Plot with the percent upsets vs the rating differential of players with uncertainty bars\n",
    "    and a linear fit.\n",
    "    Prints the weighted average of the y values in the plot.\n",
    "    \n",
    "    '''\n",
    "    plt.errorbar(x=df_diff['Rating Differential'],y=df_diff['Percent Upsets'],yerr=df_diff[['yerr-','yerr+']].T.values, linestyle=\"None\",capsize=5,fmt='o',markersize=3,color=color,alpha=alpha)\n",
    "    x=df_diff['Rating Differential']\n",
    "    y=df_diff['Percent Upsets']\n",
    "    df_diff['Uncertainty']=df_diff.apply(lambda x: x['yerr+'],axis=1)# #Make uncertainty column. Use only + side because - are small in binomial.\n",
    "    sigma=df_diff['Uncertainty']/2 #Function accepts CI of 67%, but our confidence interval covers 95%.\n",
    "    p0=-1,50 #Initialize parameters\n",
    "    popt,pcov=curve_fit(f,x,y,p0,sigma=sigma,absolute_sigma=True)\n",
    "    yfit=f(x,*popt)\n",
    "    plt.plot(x, yfit, linewidth=3,color=color, label=legend)\n",
    "    print(f\"Weighted average of percent of upsets for {legend}: {np.average(df_diff['Percent Upsets'],weights=df_diff['Rating Differential Totals'])}\") #weighted mean of percent upsets.\n",
    "\n",
    "def create_plots(names,colors,alphas,legends,df_rated_diff):\n",
    "    '''\n",
    "    Plots % upsets for best of 1, 3, and 5 set matches on one graph. Executes create_df\n",
    "    and create_plot for each match format.\n",
    "    '''\n",
    "    for name, color, alpha, legend in zip_longest(names,colors,alphas,legends):\n",
    "        df_diff=create_df(name,df_rated_diff)\n",
    "        create_plot(color,alpha,legend,df_diff)"
   ]
  },
  {
   "cell_type": "markdown",
   "metadata": {
    "scrolled": false
   },
   "source": [
    "Create the plot by executing above functions."
   ]
  },
  {
   "cell_type": "code",
   "execution_count": 48,
   "metadata": {
    "scrolled": false
   },
   "outputs": [
    {
     "name": "stdout",
     "output_type": "stream",
     "text": [
      "Weighted average of percent of upsets for Best of 1 set: 36.21372031662269\n",
      "Weighted average of percent of upsets for Best of 3 sets: 30.936675461741427\n",
      "Weighted average of percent of upsets for Best of 5 sets: 29.61741424802111\n"
     ]
    },
    {
     "data": {
      "image/png": "[encoded data removed]",
      "text/plain": [
       "<Figure size 432x288 with 1 Axes>"
      ]
     },
     "metadata": {
      "needs_background": "light"
     },
     "output_type": "display_data"
    }
   ],
   "source": [
    "#Initial parameters:\n",
    "names=['Rated Winner 1','Rated Winner 3','Rated Winner'] #column names\n",
    "colors=['green','#1f77b4','orange'] #Color of plots\n",
    "alphas=[1,1,1] #Plot transparency\n",
    "legends=['Best of 1 set','Best of 3 sets','Best of 5 sets'] #Plot legend\n",
    "\n",
    "#Make a dataframe with only rated players and their differential:\n",
    "df_rated_diff=df[(df['Rating Differential']!=0) & (df['Rating Differential']<40)]\n",
    "\n",
    "#Create figure:\n",
    "fig=plt.figure(figsize=(6,4))\n",
    "create_plots(names,colors,alphas,legends,df_rated_diff)\n",
    "plt.ylim([0,65])\n",
    "plt.legend(loc='upper right')\n",
    "plt.ylabel('Lower Rated Player Wins (%) ')\n",
    "plt.xlabel('Rating Differential')\n",
    "plt.tight_layout()\n",
    "# plt.savefig('Figures/Upsets vs Rating Differential.png',dpi=1000)"
   ]
  },
  {
   "cell_type": "markdown",
   "metadata": {},
   "source": [
    "### b) Plot bar graphs to compare the number of 5 set comebacks for higher and lower rated players. \n",
    "Different from a) in that it includes matches between rated and unrated players as well. \n",
    "\n",
    "The difference in percent of lower rated 5 set comebacks to higher rated 5 set comebacks gives a lower bound for the fairness increase of a 5 set match. Likewise for 3 set comebacks."
   ]
  },
  {
   "cell_type": "markdown",
   "metadata": {},
   "source": [
    "Make a new data frame without matches between unrated players:"
   ]
  },
  {
   "cell_type": "code",
   "execution_count": 49,
   "metadata": {},
   "outputs": [],
   "source": [
    "df_rated=df[(df['Player 1 Rating']!=100) | (df['Player 2 Rating']!=100)]\n",
    "\n",
    "#Get rid of matches which ended early due to injuries for 5 and 3 set matches:\n",
    "df_rated=df_rated[df_rated['# of Sets']>2] #for 5 set matches\n",
    "df_rated3=df_rated[df_rated['# of Sets']>1] #for 3 set matches\n",
    "\n",
    "#Get percentage of 5 and 3 set comebacks to use in figures below:\n",
    "comeback5_total=sum(df_rated['Rated 5-set Comeback'].value_counts(normalize=True)[1:3])\n",
    "comeback3_total=sum(df_rated3['Rated 3-set Comeback'].value_counts(normalize=True)[1:3])\n",
    "\n",
    "#Get percentage of 5 and 3 set comebacks for higher and lower rated players:\n",
    "df5set_rated=df[df['Rated 5-set Comeback']!=0]\n",
    "df3set_rated=df[df['Rated 3-set Comeback']!=0]"
   ]
  },
  {
   "cell_type": "markdown",
   "metadata": {},
   "source": [
    "Plot the distribution of games won depending on if they are higher or lower rated (all 4 figures plotted above in one figure):"
   ]
  },
  {
   "cell_type": "code",
   "execution_count": 50,
   "metadata": {},
   "outputs": [
    {
     "data": {
      "image/png": "[encoded data removed]",
      "text/plain": [
       "<Figure size 561.6x360 with 4 Axes>"
      ]
     },
     "metadata": {
      "needs_background": "light"
     },
     "output_type": "display_data"
    }
   ],
   "source": [
    "fig, ax =  plt.subplots(2,2,sharey=False,figsize=(7.8,5))\n",
    "\n",
    "#Upper left figure: distribution of games won for 5-setters depending on if they are higher or lower rated:\n",
    "ax[0,0] = sns.barplot(x='# of Sets',y='# of Sets',data=df_rated, estimator=lambda x: len(x) / len(df_rated) * 100,hue='Rated Winner',ax=ax[0,0])\n",
    "ax[0,0].set(ylabel=\"Percent of Total Matches\")\n",
    "ax[0,0].get_legend_handles_labels()[0]\n",
    "ax[0,0].legend((ax[0,0].get_legend_handles_labels()[0]),('Lower Rated\\nPlayer Wins','Higher Rated\\nPlayer Wins'))\n",
    "ax[0,0].set_xticklabels(['3 Sets','4 Sets','5 Sets'])\n",
    "ax[0,0].set_xlabel('')\n",
    "\n",
    "##### Upper right figure: distribution of games won for 3-setters depending on if they are higher or lower rated:\n",
    "ax[0,1] = sns.barplot(x='# of Sets 3',y='# of Sets 3',data=df_rated3, estimator=lambda x: len(x) / len(df_rated3) * 100,hue='Rated Winner 3',ax=ax[0,1])\n",
    "ax[0,1].set(ylabel=\"\")\n",
    "ax[0,1].get_legend_handles_labels()[0]\n",
    "ax[0,1].legend((ax[0,1].get_legend_handles_labels()[0]),('Lower Rated\\nPlayer Wins','Higher Rated\\nPlayer Wins'))\n",
    "ax[0,1].set_xticklabels(['2 Sets','3 Sets'])\n",
    "ax[0,1].set_xlabel('')\n",
    "\n",
    "#### Lower left figure: 5 set comebacks for higher and lower seeds\n",
    "ax[1,0] = sns.barplot(x='Rated 5-set Comeback',y='Rated 5-set Comeback',data=df5set_rated, estimator=lambda x: len(x) / len(df5set_rated)*comeback5_total*100 ,ax=ax[1,0])\n",
    "ax[1,0].set(ylabel=\"Percent of Total Matches\")\n",
    "ax[1,0].set(xlabel=\"5 Set Comebacks\")\n",
    "ax[1,0].set(xticklabels=['Lower Rated\\nPlayer Wins','Higher Rated\\nPlayer Wins'])\n",
    "\n",
    "##### Lower right figure: 3 set comebacks for higher and lower seeds:\n",
    "ax[1,1] = sns.barplot(x='Rated 3-set Comeback',y='Rated 3-set Comeback',data=df3set_rated, estimator=lambda x: len(x) / len(df3set_rated) *100 ,ax=ax[1,1])\n",
    "ax[1,1].set(ylabel=\"\")\n",
    "ax[1,1].set(xlabel=\"3 Set Comebacks\")\n",
    "ax[1,1].set(xticklabels=['Lower Rated\\nPlayer Wins','Higher Rated\\nPlayer Wins'])\n",
    "\n",
    "# Save figures:\n",
    "plt.tight_layout()\n",
    "# fig.savefig('Figures/figure 4 Rated Players Breakdown best of 3 and best of 5 and comebacks.png',dpi=1500)\n",
    "# fig.savefig('Figures/figure 4 Rated Players Breakdown best of 3 and best of 5 and comebacks.svg')"
   ]
  },
  {
   "cell_type": "markdown",
   "metadata": {},
   "source": [
    "## c) Plot upper and lower fairness bounds\n",
    "Uses increase in fairness from b) (and some simple math not shown here) to get the upper and lower bounds."
   ]
  },
  {
   "cell_type": "markdown",
   "metadata": {
    "scrolled": false
   },
   "source": [
    "Plot upper and lower fairness bounds:"
   ]
  },
  {
   "cell_type": "code",
   "execution_count": 51,
   "metadata": {
    "scrolled": false
   },
   "outputs": [
    {
     "name": "stdout",
     "output_type": "stream",
     "text": [
      "\n",
      "Theoretical estimate for the increase in fairness by set: \n",
      "[69.7455      8.33305605  5.27511255  3.71036511  2.74025427  2.08161082\n",
      "  1.61056085  1.26228848  0.9988403   0.79623019  0.63845223]\n"
     ]
    },
    {
     "data": {
      "image/png": "[encoded data removed]",
      "text/plain": [
       "<Figure size 288x216 with 1 Axes>"
      ]
     },
     "metadata": {
      "needs_background": "light"
     },
     "output_type": "display_data"
    }
   ],
   "source": [
    "# x-axis: Number of sets:\n",
    "x=np.arange(3)*2+1\n",
    "\n",
    "#Upper and lower bounds of increase in fairness:\n",
    "yhigh=np.array([100,16.976,9.3078]) \n",
    "ylow=np.array([40.9,5.6666,2.228])\n",
    "\n",
    "#Theoretical increase in fairness if p=0.697 of winning any given set, using binomial.\n",
    "#Note: this is only an estimate, since each match would have its own p.\n",
    "p=[(1-binom.cdf(i,i*2+1,0.697455)) for  i in range(11)]\n",
    "p_inc=np.array([(1-binom.cdf(i,i*2+1,0.697455))-(1-binom.cdf(i-1,(i-1)*2+1,0.697455)) for  i in range(11)])*100\n",
    "print(f'\\nTheoretical estimate for the increase in fairness by set: \\n{p_inc}')\n",
    "\n",
    "#Plot upper, lower bounds, and theoretical increase in fairness:\n",
    "plt.figure(figsize=(4,3))\n",
    "plt.scatter(x, yhigh)\n",
    "plt.plot(x, yhigh)\n",
    "plt.scatter(x,ylow)\n",
    "plt.plot(x,ylow)\n",
    "plt.scatter(x,p_inc[0:3])\n",
    "plt.plot(x,p_inc[0:3])\n",
    "\n",
    "plt.xlabel('# of Sets')\n",
    "plt.ylabel('Percent of Fairness Increase')\n",
    "plt.legend(['Upper Bound','Lower Bound','Theoretical Estimate'])\n",
    "plt.tight_layout()\n",
    "# plt.savefig('Figures/Figure 4 Upper and Lower Bounds.png', dpi=1000)"
   ]
  },
  {
   "cell_type": "markdown",
   "metadata": {},
   "source": [
    "## 4) Are players more likely to be injured in best of 5 set matches?\n",
    "Compare the regular distribution of matches to the distribution of matches before a player is injured"
   ]
  },
  {
   "cell_type": "markdown",
   "metadata": {},
   "source": [
    "Make a data frame only with matches with injuries (excluding the first round)"
   ]
  },
  {
   "cell_type": "code",
   "execution_count": 52,
   "metadata": {},
   "outputs": [],
   "source": [
    "df_inj=df[(df['Player 1 Score'].apply(len)!=df['Player 2 Score'].apply(len)) & (df['Round']!=1)]#All injured playes"
   ]
  },
  {
   "cell_type": "markdown",
   "metadata": {},
   "source": [
    "Get the number of times a player gets injured when the previous match had length of 0,1,2,3,4 or 5 sets long:"
   ]
  },
  {
   "cell_type": "code",
   "execution_count": 53,
   "metadata": {},
   "outputs": [
    {
     "name": "stdout",
     "output_type": "stream",
     "text": [
      "Number of sets played in round before injury: frequency \n",
      "[0, 1, 2, 3, 4, 5]: [ 0  0  1 88 52 52]\n"
     ]
    }
   ],
   "source": [
    "sets_before_inj=[]\n",
    "for index, row in df_inj.iterrows():\n",
    "    slam=row['Grand Slam'] #Get the grand slam in which the player was injured\n",
    "    round_before=row['Round']-1 #Get round before the one in which the player was injured\n",
    "    #Get the player who was injured:\n",
    "    if row['Player 1 Score']<row['Player 2 Score']:\n",
    "        player=row['Player 1'].split(' ')[-1] #player 1 was injured\n",
    "    else:\n",
    "        player=row['Player 2'].split(' ')[-1] #player 2 was injured\n",
    "    #Get the number of sets in the match before the match where the player was injured: \n",
    "    sets_before_inj_1=df[(df['Grand Slam']==slam) & (df['Round']==round_before) & ((df['Player 1'].apply(lambda x: x.split(' ')[-1])==player) | (df['Player 2'].apply(lambda x: x.split(' ')[-1])==player))]['# of Sets']\n",
    "    sets_before_inj.append(sets_before_inj_1.array[0])\n",
    "\n",
    "np.array(sets_before_inj)\n",
    "counts=np.bincount(sets_before_inj)\n",
    "print(f'Number of sets played in round before injury: frequency \\n{[i for i in range(6)]}: {counts}')"
   ]
  },
  {
   "cell_type": "markdown",
   "metadata": {},
   "source": [
    "Plot distribution of sets for regular matches and in the matches before an injury:"
   ]
  },
  {
   "cell_type": "code",
   "execution_count": 54,
   "metadata": {},
   "outputs": [
    {
     "name": "stdout",
     "output_type": "stream",
     "text": [
      "[49.42307692 31.43589744 19.14102564]\n"
     ]
    },
    {
     "data": {
      "image/png": "[encoded data removed]",
      "text/plain": [
       "<Figure size 288x216 with 1 Axes>"
      ]
     },
     "metadata": {
      "needs_background": "light"
     },
     "output_type": "display_data"
    }
   ],
   "source": [
    "fig=plt.figure(figsize=(4,3))\n",
    "width=.4\n",
    "\n",
    "#Regular distribution:\n",
    "sets_dist=df['# of Sets'].value_counts()[0:3].values\n",
    "plt.bar(np.arange(3)-width,width=width,height=sets_dist/sum(sets_dist)*100)\n",
    "print(sets_dist/sum(sets_dist)*100)\n",
    "\n",
    "#Distribution of sets before an injury\n",
    "perc_counts=counts[3:]/sum(counts[3:])\n",
    "\n",
    "#Plot distributions:\n",
    "plt.bar(np.arange(3),width=width,height=perc_counts*100)\n",
    "plt.xticks(np.arange(3)-width/2,['3-sets','4-sets','5-sets'])\n",
    "plt.ylabel('Percent of Matches')\n",
    "plt.legend(['Regular Match Distribution','Matches before an Injury'])\n",
    "plt.tight_layout()\n",
    "# plt.savefig('Figures/Figure 4 Length of Match before Injury.png',dpi=1000)"
   ]
  },
  {
   "cell_type": "markdown",
   "metadata": {},
   "source": [
    "## 5) Additional analysis: How often do different seeds win grand slams?"
   ]
  },
  {
   "cell_type": "markdown",
   "metadata": {
    "scrolled": true
   },
   "source": [
    "Make a plot of the percentage of times a seed wins as a function of their rating:"
   ]
  },
  {
   "cell_type": "code",
   "execution_count": 55,
   "metadata": {
    "scrolled": true
   },
   "outputs": [
    {
     "data": {
      "text/plain": [
       "(0.0, 34.0)"
      ]
     },
     "execution_count": 55,
     "metadata": {},
     "output_type": "execute_result"
    },
    {
     "data": {
      "image/png": "[encoded data removed]",
      "text/plain": [
       "<Figure size 936x360 with 1 Axes>"
      ]
     },
     "metadata": {
      "needs_background": "light"
     },
     "output_type": "display_data"
    }
   ],
   "source": [
    "# Make a data frame with only the final match from each slam:\n",
    "df_finals=df[df['Round']==7]\n",
    "\n",
    "rating_slam_wins=df_finals['Winner Rating'].value_counts()\n",
    "rating_slam_wins[2]+=2 #2 grand slams not in Wikipedia project\n",
    "rating_slam_wins = rating_slam_wins.rename(index={100: 33}) \n",
    "\n",
    "# Plot percentage of slam wins by rating:\n",
    "plt.figure(figsize=(13,5))\n",
    "plt.bar(x=rating_slam_wins.index,height=rating_slam_wins/sum(rating_slam_wins)*100)\n",
    "plt.xlabel('Player Rating')\n",
    "plt.ylabel('Champion (%)')\n",
    "l=list(range(1,33))\n",
    "l.append('33+')\n",
    "plt.xticks(np.arange(1,34),l)\n",
    "plt.xlim((0,34))\n",
    "# print(rating_slam_wins[1])\n",
    "# print(rating_slam_wins[1]/sum(rating_slam_wins)*100)"
   ]
  },
  {
   "cell_type": "markdown",
   "metadata": {},
   "source": [
    "Save the dataframe as a .csv file for future use:"
   ]
  },
  {
   "cell_type": "code",
   "execution_count": 56,
   "metadata": {},
   "outputs": [],
   "source": [
    "df.to_csv('Tennis_DataFrame.csv')"
   ]
  }
 ],
 "metadata": {
  "kernelspec": {
   "display_name": "Python 3",
   "language": "python",
   "name": "python3"
  },
  "language_info": {
   "codemirror_mode": {
    "name": "ipython",
    "version": 3
   },
   "file_extension": ".py",
   "mimetype": "text/x-python",
   "name": "python",
   "nbconvert_exporter": "python",
   "pygments_lexer": "ipython3",
   "version": "3.8.5"
  }
 },
 "nbformat": 4,
 "nbformat_minor": 4
}
