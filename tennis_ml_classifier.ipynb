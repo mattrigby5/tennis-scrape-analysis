{
 "cells": [
  {
   "cell_type": "markdown",
   "metadata": {},
   "source": [
    "# Build a Machine Learning Classifier:\n"
   ]
  },
  {
   "cell_type": "markdown",
   "metadata": {},
   "source": [
    "### Introduction:\n",
    "\n",
    "It would be very interesting to do something like predicting the champion of the tournament, but with only 127 tournaments in the dataset, I don't have good enough data to do this. Since most of my grand slam tennis project has been about best of 3 vs best of 5 sets, I think it would be interesting to be able to predict which matches last longer than 3 sets.\n",
    "\n",
    "It seems like it would be possible to do the same thing for best of 3 set matches, but a quick probabilistic analysis shows that this is not possible. The probability of having a 2 set match is P=p1^2+(1-p1)^2, where p1 is the probability of the better player winning. The solution to this equation says that given that p1 is always greater than 0.5, P is always greater than 0.5. This means that we should always predict a 2 set match, making a machine learning algorithm redundant. By similar logic, it would be pointless to try to predict a 3,4, or 5 sets in a best of 5 set match, so the only ML classifier worth building is one which predicts if the match will be 3 sets or longer than 3 sets (i.e. 4 or 5 sets long). In that case, P=p1^3+(1-p1)^3. Solving for P=0.5, it turns out that if the probability of the better player winning the set is smaller than 0.789, then we expect the match to be longer than 3 sets, but if it is greater than 0.789, then we expect the match to be shorter than 3 sets.\n",
    "\n",
    "Since half of all best of 5 set matches go to 3 sets, and we assume a distribution similar to a Gaussian, then we expect the p1 in most matches to be quite close to 0.789. This fact means that we expect it to be quite difficult to make an ML classifier that can regularly determine what length of match we will have. It will still be interesting to try!\n",
    "\n",
    "### Steps:\n",
    "\n",
    "1) I will first clean the data frame:\n",
    "\n",
    "    a) Remove all columns which do not help to predict the length of match.\n",
    "    b) Replace the player rating columns with 'higher rated' and 'lower rated' player columns to reduce redundancy.\n",
    "\n",
    "2) Explore the relationship between the remaining columns and the length of match using plots. Further remove columns which don't show any correlation.\n",
    "\n",
    "3) Since this is a supervised classification problem, I have chosen to use the following algorithms: decision tree classifier, random forest classifier, logistic regression, support vector classifier, and k nearest neighbors classifier. I then optimized the parameters of the k nearest neighbors algorithm.\n",
    "\n",
    "### Brief Summary of Results:\n",
    "\n",
    "As expected, the results were underwhelming. The optimized k nearest neighbors classifier had an accuracy of 55%. These results were as expected since the correlation between the dependent variables and the length of match was not strong. As discussed in the introduction, we expected the p1 of most matches to be around 0.789, meaning that most matches would have a good chance of being either 3 sets or more, making it hard to predict the length of match better than flipping a coin!"
   ]
  },
  {
   "cell_type": "markdown",
   "metadata": {},
   "source": [
    "### 0) Import Libraries and data"
   ]
  },
  {
   "cell_type": "code",
   "execution_count": 1,
   "metadata": {},
   "outputs": [],
   "source": [
    "import matplotlib.pyplot as plt\n",
    "import pandas as pd\n",
    "import numpy as np\n",
    "import seaborn as sns\n",
    "from itertools import zip_longest"
   ]
  },
  {
   "cell_type": "code",
   "execution_count": 2,
   "metadata": {},
   "outputs": [],
   "source": [
    "from sklearn.model_selection import train_test_split\n",
    "from sklearn.tree import DecisionTreeClassifier\n",
    "from sklearn.ensemble import RandomForestClassifier\n",
    "from sklearn.linear_model import LogisticRegression\n",
    "from sklearn.svm import SVC\n",
    "from sklearn.neighbors import KNeighborsClassifier\n",
    "from sklearn.metrics import confusion_matrix, classification_report"
   ]
  },
  {
   "cell_type": "code",
   "execution_count": 3,
   "metadata": {},
   "outputs": [],
   "source": [
    "df=pd.read_csv('Tennis_DataFrame.csv')"
   ]
  },
  {
   "cell_type": "code",
   "execution_count": 28,
   "metadata": {
    "scrolled": true
   },
   "outputs": [
    {
     "data": {
      "text/html": [
       "<div>\n",
       "<style scoped>\n",
       "    .dataframe tbody tr th:only-of-type {\n",
       "        vertical-align: middle;\n",
       "    }\n",
       "\n",
       "    .dataframe tbody tr th {\n",
       "        vertical-align: top;\n",
       "    }\n",
       "\n",
       "    .dataframe thead th {\n",
       "        text-align: right;\n",
       "    }\n",
       "</style>\n",
       "<table border=\"1\" class=\"dataframe\">\n",
       "  <thead>\n",
       "    <tr style=\"text-align: right;\">\n",
       "      <th></th>\n",
       "      <th>Grand Slam</th>\n",
       "      <th>Round</th>\n",
       "      <th>Player 1 Rating</th>\n",
       "      <th>Player 1</th>\n",
       "      <th>Player 1 Score</th>\n",
       "      <th>Player 2 Rating</th>\n",
       "      <th>Player 2</th>\n",
       "      <th>Player 2 Score</th>\n",
       "      <th>5-set Comeback</th>\n",
       "      <th>3-set Comeback</th>\n",
       "      <th>...</th>\n",
       "      <th>Winner 3</th>\n",
       "      <th>Rated Winner 3</th>\n",
       "      <th>Winner 1</th>\n",
       "      <th>Rated Winner 1</th>\n",
       "      <th>Rated 5-set Comeback</th>\n",
       "      <th>Rated 3-set Comeback</th>\n",
       "      <th># of Sets</th>\n",
       "      <th># of Sets 3</th>\n",
       "      <th>Rating Differential</th>\n",
       "      <th>Winner Rating</th>\n",
       "    </tr>\n",
       "  </thead>\n",
       "  <tbody>\n",
       "    <tr>\n",
       "      <th>0</th>\n",
       "      <td>1989 a</td>\n",
       "      <td>7</td>\n",
       "      <td>9</td>\n",
       "      <td>Miloslav Mečíř</td>\n",
       "      <td>[2, 2, 2]</td>\n",
       "      <td>2</td>\n",
       "      <td>Ivan Lendl</td>\n",
       "      <td>[6, 6, 6]</td>\n",
       "      <td>0</td>\n",
       "      <td>0</td>\n",
       "      <td>...</td>\n",
       "      <td>-1</td>\n",
       "      <td>1</td>\n",
       "      <td>-1</td>\n",
       "      <td>1</td>\n",
       "      <td>0</td>\n",
       "      <td>0</td>\n",
       "      <td>3</td>\n",
       "      <td>2</td>\n",
       "      <td>7</td>\n",
       "      <td>2</td>\n",
       "    </tr>\n",
       "    <tr>\n",
       "      <th>1</th>\n",
       "      <td>1989 a</td>\n",
       "      <td>6</td>\n",
       "      <td>11</td>\n",
       "      <td>Thomas Muster</td>\n",
       "      <td>[2, 4, 7, 5]</td>\n",
       "      <td>2</td>\n",
       "      <td>Ivan Lendl</td>\n",
       "      <td>[6, 6, 5, 7]</td>\n",
       "      <td>0</td>\n",
       "      <td>0</td>\n",
       "      <td>...</td>\n",
       "      <td>-1</td>\n",
       "      <td>1</td>\n",
       "      <td>-1</td>\n",
       "      <td>1</td>\n",
       "      <td>0</td>\n",
       "      <td>0</td>\n",
       "      <td>4</td>\n",
       "      <td>2</td>\n",
       "      <td>9</td>\n",
       "      <td>2</td>\n",
       "    </tr>\n",
       "    <tr>\n",
       "      <th>2</th>\n",
       "      <td>1989 a</td>\n",
       "      <td>6</td>\n",
       "      <td>9</td>\n",
       "      <td>Miloslav Mečíř</td>\n",
       "      <td>[7, 6, 6]</td>\n",
       "      <td>100</td>\n",
       "      <td>Jan Gunnarsson</td>\n",
       "      <td>[5, 2, 2]</td>\n",
       "      <td>0</td>\n",
       "      <td>0</td>\n",
       "      <td>...</td>\n",
       "      <td>1</td>\n",
       "      <td>1</td>\n",
       "      <td>1</td>\n",
       "      <td>1</td>\n",
       "      <td>0</td>\n",
       "      <td>0</td>\n",
       "      <td>3</td>\n",
       "      <td>2</td>\n",
       "      <td>91</td>\n",
       "      <td>9</td>\n",
       "    </tr>\n",
       "    <tr>\n",
       "      <th>3</th>\n",
       "      <td>1989 a</td>\n",
       "      <td>5</td>\n",
       "      <td>100</td>\n",
       "      <td>Goran Ivanišević</td>\n",
       "      <td>[5, 0, 3]</td>\n",
       "      <td>9</td>\n",
       "      <td>Miloslav Mečíř</td>\n",
       "      <td>[7, 6, 6]</td>\n",
       "      <td>0</td>\n",
       "      <td>0</td>\n",
       "      <td>...</td>\n",
       "      <td>-1</td>\n",
       "      <td>1</td>\n",
       "      <td>-1</td>\n",
       "      <td>1</td>\n",
       "      <td>0</td>\n",
       "      <td>0</td>\n",
       "      <td>3</td>\n",
       "      <td>2</td>\n",
       "      <td>91</td>\n",
       "      <td>9</td>\n",
       "    </tr>\n",
       "    <tr>\n",
       "      <th>4</th>\n",
       "      <td>1989 a</td>\n",
       "      <td>5</td>\n",
       "      <td>14</td>\n",
       "      <td>Jonas Svensson</td>\n",
       "      <td>[0, 3, 6, 4]</td>\n",
       "      <td>100</td>\n",
       "      <td>Jan Gunnarsson</td>\n",
       "      <td>[6, 6, 4, 6]</td>\n",
       "      <td>0</td>\n",
       "      <td>0</td>\n",
       "      <td>...</td>\n",
       "      <td>-1</td>\n",
       "      <td>-1</td>\n",
       "      <td>-1</td>\n",
       "      <td>-1</td>\n",
       "      <td>0</td>\n",
       "      <td>0</td>\n",
       "      <td>4</td>\n",
       "      <td>2</td>\n",
       "      <td>86</td>\n",
       "      <td>100</td>\n",
       "    </tr>\n",
       "  </tbody>\n",
       "</table>\n",
       "<p>5 rows × 22 columns</p>\n",
       "</div>"
      ],
      "text/plain": [
       "  Grand Slam  Round  Player 1 Rating          Player 1 Player 1 Score  \\\n",
       "0     1989 a      7                9    Miloslav Mečíř      [2, 2, 2]   \n",
       "1     1989 a      6               11     Thomas Muster   [2, 4, 7, 5]   \n",
       "2     1989 a      6                9    Miloslav Mečíř      [7, 6, 6]   \n",
       "3     1989 a      5              100  Goran Ivanišević      [5, 0, 3]   \n",
       "4     1989 a      5               14    Jonas Svensson   [0, 3, 6, 4]   \n",
       "\n",
       "   Player 2 Rating        Player 2 Player 2 Score  5-set Comeback  \\\n",
       "0                2      Ivan Lendl      [6, 6, 6]               0   \n",
       "1                2      Ivan Lendl   [6, 6, 5, 7]               0   \n",
       "2              100  Jan Gunnarsson      [5, 2, 2]               0   \n",
       "3                9  Miloslav Mečíř      [7, 6, 6]               0   \n",
       "4              100  Jan Gunnarsson   [6, 6, 4, 6]               0   \n",
       "\n",
       "   3-set Comeback  ...  Winner 3  Rated Winner 3  Winner 1  Rated Winner 1  \\\n",
       "0               0  ...        -1               1        -1               1   \n",
       "1               0  ...        -1               1        -1               1   \n",
       "2               0  ...         1               1         1               1   \n",
       "3               0  ...        -1               1        -1               1   \n",
       "4               0  ...        -1              -1        -1              -1   \n",
       "\n",
       "   Rated 5-set Comeback  Rated 3-set Comeback  # of Sets  # of Sets 3  \\\n",
       "0                     0                     0          3            2   \n",
       "1                     0                     0          4            2   \n",
       "2                     0                     0          3            2   \n",
       "3                     0                     0          3            2   \n",
       "4                     0                     0          4            2   \n",
       "\n",
       "   Rating Differential  Winner Rating  \n",
       "0                    7              2  \n",
       "1                    9              2  \n",
       "2                   91              9  \n",
       "3                   91              9  \n",
       "4                   86            100  \n",
       "\n",
       "[5 rows x 22 columns]"
      ]
     },
     "execution_count": 28,
     "metadata": {},
     "output_type": "execute_result"
    }
   ],
   "source": [
    "df.head()"
   ]
  },
  {
   "cell_type": "markdown",
   "metadata": {},
   "source": [
    "### 1) Clean the data frame:"
   ]
  },
  {
   "cell_type": "markdown",
   "metadata": {},
   "source": [
    "Drop all unuseful columns:"
   ]
  },
  {
   "cell_type": "code",
   "execution_count": 4,
   "metadata": {},
   "outputs": [],
   "source": [
    "df_ml=df.drop(['Player 1', 'Player 1 Score', 'Player 2', 'Player 2 Score', \n",
    "               '5-set Comeback','3-set Comeback', \n",
    "               'Winner', 'Rated Winner', 'Winner 3','Rated Winner 3', 'Winner 1', 'Rated Winner 1', \n",
    "               'Rated 5-set Comeback','Rated 3-set Comeback',\n",
    "               'Winner Rating'], \n",
    "              axis=1)"
   ]
  },
  {
   "cell_type": "markdown",
   "metadata": {},
   "source": [
    "Drop all matches between two unrated players since these contain very little information about who is better. This is unfortunate because low rated players which have a close rating would be good candidates for long matches:"
   ]
  },
  {
   "cell_type": "code",
   "execution_count": 5,
   "metadata": {},
   "outputs": [],
   "source": [
    "df_ml=df_ml[(df_ml['Player 1 Rating']!=100) | (df_ml['Player 2 Rating']!=100)]"
   ]
  },
  {
   "cell_type": "markdown",
   "metadata": {},
   "source": [
    "Some of the ML algorithms will treat player 1 and player 2 differently, but they should treated equally (the difference between player 1 and player 2 is simply that player 1 appeared on the top of the draw and player 2 on the bottom, and this should have no effect on result). So, I'm going to put all higher rated players in one column, lower rated players in another, and drop the Player 1 Rating and player 2 Rating columns:"
   ]
  },
  {
   "cell_type": "code",
   "execution_count": 6,
   "metadata": {},
   "outputs": [],
   "source": [
    "df_ml['Higher Rated']=df_ml.apply(lambda x: x['Player 1 Rating'] if x['Player 1 Rating']<x['Player 2 Rating'] else x['Player 2 Rating'],axis=1)\n",
    "df_ml['Lower Rated']=df_ml.apply(lambda x: x['Player 2 Rating'] if x['Player 1 Rating']<x['Player 2 Rating'] else x['Player 1 Rating'],axis=1)\n",
    "df_ml=df_ml.drop(['Player 1 Rating','Player 2 Rating'],axis=1)"
   ]
  },
  {
   "cell_type": "markdown",
   "metadata": {},
   "source": [
    "Remove the 'Grand Slam' column, and use it to make year and venue columns (i.e. Australian, French, Wimbledon or US):"
   ]
  },
  {
   "cell_type": "code",
   "execution_count": 7,
   "metadata": {},
   "outputs": [],
   "source": [
    "df_ml['Year']=df_ml['Grand Slam'].apply(lambda x: int(x[0:4]))\n",
    "df_ml['Venue']=df_ml['Grand Slam'].apply(lambda x: x[-1])\n",
    "df_ml.drop('Grand Slam',axis=1,inplace=True)"
   ]
  },
  {
   "cell_type": "markdown",
   "metadata": {},
   "source": [
    "Drop all matches which didn't last at least 3 sets:"
   ]
  },
  {
   "cell_type": "code",
   "execution_count": 8,
   "metadata": {},
   "outputs": [],
   "source": [
    "df_ml=df_ml[df_ml['# of Sets']>2]"
   ]
  },
  {
   "cell_type": "markdown",
   "metadata": {},
   "source": [
    "View the dataframe after making these modifications:"
   ]
  },
  {
   "cell_type": "code",
   "execution_count": 9,
   "metadata": {},
   "outputs": [
    {
     "data": {
      "text/html": [
       "<div>\n",
       "<style scoped>\n",
       "    .dataframe tbody tr th:only-of-type {\n",
       "        vertical-align: middle;\n",
       "    }\n",
       "\n",
       "    .dataframe tbody tr th {\n",
       "        vertical-align: top;\n",
       "    }\n",
       "\n",
       "    .dataframe thead th {\n",
       "        text-align: right;\n",
       "    }\n",
       "</style>\n",
       "<table border=\"1\" class=\"dataframe\">\n",
       "  <thead>\n",
       "    <tr style=\"text-align: right;\">\n",
       "      <th></th>\n",
       "      <th>Round</th>\n",
       "      <th># of Sets</th>\n",
       "      <th># of Sets 3</th>\n",
       "      <th>Rating Differential</th>\n",
       "      <th>Higher Rated</th>\n",
       "      <th>Lower Rated</th>\n",
       "      <th>Year</th>\n",
       "      <th>Venue</th>\n",
       "    </tr>\n",
       "  </thead>\n",
       "  <tbody>\n",
       "    <tr>\n",
       "      <th>0</th>\n",
       "      <td>7</td>\n",
       "      <td>3</td>\n",
       "      <td>2</td>\n",
       "      <td>7</td>\n",
       "      <td>2</td>\n",
       "      <td>9</td>\n",
       "      <td>1989</td>\n",
       "      <td>a</td>\n",
       "    </tr>\n",
       "    <tr>\n",
       "      <th>1</th>\n",
       "      <td>6</td>\n",
       "      <td>4</td>\n",
       "      <td>2</td>\n",
       "      <td>9</td>\n",
       "      <td>2</td>\n",
       "      <td>11</td>\n",
       "      <td>1989</td>\n",
       "      <td>a</td>\n",
       "    </tr>\n",
       "    <tr>\n",
       "      <th>2</th>\n",
       "      <td>6</td>\n",
       "      <td>3</td>\n",
       "      <td>2</td>\n",
       "      <td>91</td>\n",
       "      <td>9</td>\n",
       "      <td>100</td>\n",
       "      <td>1989</td>\n",
       "      <td>a</td>\n",
       "    </tr>\n",
       "    <tr>\n",
       "      <th>3</th>\n",
       "      <td>5</td>\n",
       "      <td>3</td>\n",
       "      <td>2</td>\n",
       "      <td>91</td>\n",
       "      <td>9</td>\n",
       "      <td>100</td>\n",
       "      <td>1989</td>\n",
       "      <td>a</td>\n",
       "    </tr>\n",
       "    <tr>\n",
       "      <th>4</th>\n",
       "      <td>5</td>\n",
       "      <td>4</td>\n",
       "      <td>2</td>\n",
       "      <td>86</td>\n",
       "      <td>14</td>\n",
       "      <td>100</td>\n",
       "      <td>1989</td>\n",
       "      <td>a</td>\n",
       "    </tr>\n",
       "    <tr>\n",
       "      <th>...</th>\n",
       "      <td>...</td>\n",
       "      <td>...</td>\n",
       "      <td>...</td>\n",
       "      <td>...</td>\n",
       "      <td>...</td>\n",
       "      <td>...</td>\n",
       "      <td>...</td>\n",
       "      <td>...</td>\n",
       "    </tr>\n",
       "    <tr>\n",
       "      <th>15824</th>\n",
       "      <td>1</td>\n",
       "      <td>3</td>\n",
       "      <td>2</td>\n",
       "      <td>75</td>\n",
       "      <td>25</td>\n",
       "      <td>100</td>\n",
       "      <td>2020</td>\n",
       "      <td>a</td>\n",
       "    </tr>\n",
       "    <tr>\n",
       "      <th>15828</th>\n",
       "      <td>1</td>\n",
       "      <td>3</td>\n",
       "      <td>2</td>\n",
       "      <td>92</td>\n",
       "      <td>8</td>\n",
       "      <td>100</td>\n",
       "      <td>2020</td>\n",
       "      <td>a</td>\n",
       "    </tr>\n",
       "    <tr>\n",
       "      <th>15829</th>\n",
       "      <td>1</td>\n",
       "      <td>3</td>\n",
       "      <td>2</td>\n",
       "      <td>93</td>\n",
       "      <td>7</td>\n",
       "      <td>100</td>\n",
       "      <td>2020</td>\n",
       "      <td>a</td>\n",
       "    </tr>\n",
       "    <tr>\n",
       "      <th>15832</th>\n",
       "      <td>1</td>\n",
       "      <td>5</td>\n",
       "      <td>3</td>\n",
       "      <td>74</td>\n",
       "      <td>26</td>\n",
       "      <td>100</td>\n",
       "      <td>2020</td>\n",
       "      <td>a</td>\n",
       "    </tr>\n",
       "    <tr>\n",
       "      <th>15833</th>\n",
       "      <td>1</td>\n",
       "      <td>4</td>\n",
       "      <td>2</td>\n",
       "      <td>98</td>\n",
       "      <td>2</td>\n",
       "      <td>100</td>\n",
       "      <td>2020</td>\n",
       "      <td>a</td>\n",
       "    </tr>\n",
       "  </tbody>\n",
       "</table>\n",
       "<p>8842 rows × 8 columns</p>\n",
       "</div>"
      ],
      "text/plain": [
       "       Round  # of Sets  # of Sets 3  Rating Differential  Higher Rated  \\\n",
       "0          7          3            2                    7             2   \n",
       "1          6          4            2                    9             2   \n",
       "2          6          3            2                   91             9   \n",
       "3          5          3            2                   91             9   \n",
       "4          5          4            2                   86            14   \n",
       "...      ...        ...          ...                  ...           ...   \n",
       "15824      1          3            2                   75            25   \n",
       "15828      1          3            2                   92             8   \n",
       "15829      1          3            2                   93             7   \n",
       "15832      1          5            3                   74            26   \n",
       "15833      1          4            2                   98             2   \n",
       "\n",
       "       Lower Rated  Year Venue  \n",
       "0                9  1989     a  \n",
       "1               11  1989     a  \n",
       "2              100  1989     a  \n",
       "3              100  1989     a  \n",
       "4              100  1989     a  \n",
       "...            ...   ...   ...  \n",
       "15824          100  2020     a  \n",
       "15828          100  2020     a  \n",
       "15829          100  2020     a  \n",
       "15832          100  2020     a  \n",
       "15833          100  2020     a  \n",
       "\n",
       "[8842 rows x 8 columns]"
      ]
     },
     "execution_count": 9,
     "metadata": {},
     "output_type": "execute_result"
    }
   ],
   "source": [
    "df_ml"
   ]
  },
  {
   "cell_type": "markdown",
   "metadata": {},
   "source": [
    "### 2) Explore the relationship between length of match ('# of Sets') and the other columns"
   ]
  },
  {
   "cell_type": "markdown",
   "metadata": {},
   "source": [
    "Make a function which allows us to compare the columns to the number of sets in the match:"
   ]
  },
  {
   "cell_type": "code",
   "execution_count": 10,
   "metadata": {},
   "outputs": [
    {
     "data": {
      "text/plain": [
       "3    51.928783\n",
       "4    26.706231\n",
       "5    21.364985\n",
       "Name: 2006, dtype: float64"
      ]
     },
     "execution_count": 10,
     "metadata": {},
     "output_type": "execute_result"
    }
   ],
   "source": [
    "def perc_category(df_ml,venue,column_name,column_name_perc):\n",
    "    '''Gives the percent of matches which ended in 3,4, or 5 sets for a certain column (eg. Year)'''\n",
    "    set_totals=df_ml[df_ml[column_name]==venue][column_name_perc].value_counts()\n",
    "    set_totals.name=venue\n",
    "    return set_totals/sum(set_totals)*100\n",
    "#test:\n",
    "perc_category(df_ml,2006,'Year','# of Sets')"
   ]
  },
  {
   "cell_type": "code",
   "execution_count": 11,
   "metadata": {
    "scrolled": true
   },
   "outputs": [],
   "source": [
    "def make_plot(df_categories,column_name):\n",
    "    '''\n",
    "    Make a scatter plot of % matches which ended in either 3 or (4 or 5) sets vs one of the columns in the dataframe.\n",
    "    \n",
    "    Inputs:\n",
    "    df_categories: dataframe with columns \"# of Sets\" and other columns (e.g. \"Venue\")\n",
    "    \n",
    "    Output:\n",
    "    Figure: Percent Matches (which ended in 3 vs. 4 or 5 sets) vs. another column variable (e.g. Venue)\n",
    "    \n",
    "    '''\n",
    "    fig,ax=plt.subplots()\n",
    "    for ind in range(len(df_categories.index)):\n",
    "        ax = plt.scatter(x=df_categories.columns,y=df_categories.iloc[ind,:])\n",
    "\n",
    "    ax=plt.gca()\n",
    "    ax.set_xlabel(column_name)\n",
    "    ax.set_ylabel('Percent Matches')\n",
    "    ax.legend([f'{sets} Sets' for sets in df_categories.index])\n",
    "\n",
    "#Test:\n",
    "# df_category=[perc_category(df_ml,1995,'Year') for venue in df_ml[column_name].unique()]\n",
    "# df_categories=pd.DataFrame(df_category).transpose()\n",
    "# make_plot(df_categories,'Venue')"
   ]
  },
  {
   "cell_type": "markdown",
   "metadata": {},
   "source": [
    "Loop through each column to compare it to the # of Sets in the match (plot % of matches which had a certain length vs. the column):"
   ]
  },
  {
   "cell_type": "code",
   "execution_count": 12,
   "metadata": {
    "scrolled": false
   },
   "outputs": [
    {
     "data": {
      "image/png": "[encoded data removed]",
      "text/plain": [
       "<Figure size 432x288 with 1 Axes>"
      ]
     },
     "metadata": {
      "needs_background": "light"
     },
     "output_type": "display_data"
    },
    {
     "data": {
      "image/png": "[encoded data removed]",
      "text/plain": [
       "<Figure size 432x288 with 1 Axes>"
      ]
     },
     "metadata": {
      "needs_background": "light"
     },
     "output_type": "display_data"
    },
    {
     "data": {
      "image/png": "[encoded data removed]",
      "text/plain": [
       "<Figure size 432x288 with 1 Axes>"
      ]
     },
     "metadata": {
      "needs_background": "light"
     },
     "output_type": "display_data"
    },
    {
     "data": {
      "image/png": "[encoded data removed]",
      "text/plain": [
       "<Figure size 432x288 with 1 Axes>"
      ]
     },
     "metadata": {
      "needs_background": "light"
     },
     "output_type": "display_data"
    },
    {
     "data": {
      "image/png": "[encoded data removed]",
      "text/plain": [
       "<Figure size 432x288 with 1 Axes>"
      ]
     },
     "metadata": {
      "needs_background": "light"
     },
     "output_type": "display_data"
    },
    {
     "data": {
      "image/png": "[encoded data removed]",
      "text/plain": [
       "<Figure size 432x288 with 1 Axes>"
      ]
     },
     "metadata": {
      "needs_background": "light"
     },
     "output_type": "display_data"
    },
    {
     "data": {
      "image/png": "[encoded data removed]",
      "text/plain": [
       "<Figure size 432x288 with 1 Axes>"
      ]
     },
     "metadata": {
      "needs_background": "light"
     },
     "output_type": "display_data"
    }
   ],
   "source": [
    "column_name_perc='# of Sets' #Choose which column we want to be the independent variable\n",
    "for column_name in df_ml.columns:\n",
    "    if column_name==column_name_perc: #We don't want to plot the same column against itself.\n",
    "        pass\n",
    "    else:\n",
    "        #Use perc_category function in a list comprehension to make a data frame whose columns are a category (column in df_ml) \n",
    "        #and which has the percent of matches which ended in 3,4, or 5 sets in the dataframe.\n",
    "        df_category=[perc_category(df_ml,venue,column_name,column_name_perc) for venue in df_ml[column_name].unique()]\n",
    "        df_categories=pd.DataFrame(df_category).transpose()\n",
    "        # To combine matches with 4 and 5 sets (if you want to compare 3,4, and 5 sets, comment out these next three lines):\n",
    "        df_categories=pd.DataFrame(df_categories.iloc[0]).transpose()\n",
    "        df_categories=df_categories.append(pd.DataFrame(100-df_categories.iloc[0]).transpose(),ignore_index=True)\n",
    "        df_categories.index=['3','4 or 5']\n",
    "        #Plot the percent of matches which ended in 3,4, or 5 sets vs the columns in df_ml in different graphs:\n",
    "        make_plot(df_categories,column_name)"
   ]
  },
  {
   "cell_type": "markdown",
   "metadata": {},
   "source": [
    "There is almost no correlation between year or venue with the length of match, so we will remove those two columns. We will also remove the # of sets in a best of 3 set match since that gives us additional information which we would not have before a match (it would unfairly help our model). The remaining columns show a correlation with length of match. They are: round, the rating of the higher and lower rated players, and the rating differential between players."
   ]
  },
  {
   "cell_type": "code",
   "execution_count": 13,
   "metadata": {},
   "outputs": [],
   "source": [
    "df_ml.drop(columns='Year',axis=1,inplace=True)\n",
    "df_ml.drop(columns='Venue',axis=1,inplace=True)\n",
    "df_ml.drop(columns='# of Sets 3',axis=1,inplace=True)"
   ]
  },
  {
   "cell_type": "markdown",
   "metadata": {},
   "source": [
    "Check to make sure columns aren't missing any values:"
   ]
  },
  {
   "cell_type": "code",
   "execution_count": 14,
   "metadata": {},
   "outputs": [
    {
     "data": {
      "text/plain": [
       "Round                  0\n",
       "# of Sets              0\n",
       "Rating Differential    0\n",
       "Higher Rated           0\n",
       "Lower Rated            0\n",
       "dtype: int64"
      ]
     },
     "execution_count": 14,
     "metadata": {},
     "output_type": "execute_result"
    }
   ],
   "source": [
    "df_ml.isnull().sum()"
   ]
  },
  {
   "cell_type": "markdown",
   "metadata": {},
   "source": [
    "Convert # of Sets into a binary column called Sets where 0 represents 3 sets and 1 represents 4 or 5 sets:"
   ]
  },
  {
   "cell_type": "code",
   "execution_count": 15,
   "metadata": {},
   "outputs": [],
   "source": [
    "df_ml['Sets']=df_ml['# of Sets'].apply(lambda x: 0 if x==3 else 1)\n",
    "df_ml.drop(columns='# of Sets',axis=1,inplace=True)"
   ]
  },
  {
   "cell_type": "markdown",
   "metadata": {},
   "source": [
    "### 3) Evaluate 5 different possible ML models:\n",
    "a) View models without any optimization"
   ]
  },
  {
   "cell_type": "markdown",
   "metadata": {},
   "source": [
    "Split data into training and test data sets:"
   ]
  },
  {
   "cell_type": "code",
   "execution_count": 16,
   "metadata": {},
   "outputs": [],
   "source": [
    "from sklearn.model_selection import train_test_split\n",
    "from sklearn.tree import DecisionTreeClassifier\n",
    "from sklearn.ensemble import RandomForestClassifier\n",
    "from sklearn.linear_model import LogisticRegression\n",
    "from sklearn.svm import SVC\n",
    "from sklearn.neighbors import KNeighborsClassifier\n",
    "from sklearn.metrics import confusion_matrix, classification_report"
   ]
  },
  {
   "cell_type": "code",
   "execution_count": 17,
   "metadata": {},
   "outputs": [],
   "source": [
    "X = df_ml.drop('Sets',axis=1)\n",
    "y = df_ml['Sets']\n",
    "X_train, X_test, y_train, y_test = train_test_split(X, y, shuffle=True, test_size=0.20, random_state=101)"
   ]
  },
  {
   "cell_type": "code",
   "execution_count": 18,
   "metadata": {},
   "outputs": [],
   "source": [
    "from itertools import zip_longest"
   ]
  },
  {
   "cell_type": "code",
   "execution_count": 19,
   "metadata": {
    "scrolled": false
   },
   "outputs": [
    {
     "name": "stdout",
     "output_type": "stream",
     "text": [
      "Evaluation metrics for the <class 'sklearn.neighbors._classification.KNeighborsClassifier'> model:\n",
      "\n",
      "              precision    recall  f1-score   support\n",
      "\n",
      "           0       0.54      0.67      0.60       913\n",
      "           1       0.53      0.39      0.45       856\n",
      "\n",
      "    accuracy                           0.53      1769\n",
      "   macro avg       0.53      0.53      0.52      1769\n",
      "weighted avg       0.53      0.53      0.52      1769\n",
      "\n",
      "Confusion Matrix:\n",
      " [[614 299]\n",
      " [525 331]]\n",
      "\n"
     ]
    }
   ],
   "source": [
    "def ml_model(X_train, X_test, y_train, y_test, model, *args,**kwargs):\n",
    "    '''\n",
    "    Takes training data, testing data, and a model with its parameters, returns the predictions of the model and prints\n",
    "    the evaluation metrics in the form of a classification report and a confusion matrix.\n",
    "    '''\n",
    "    if args[0]==(0):\n",
    "        instance=model() #model instantiation doesn't accept an empty tuple, so we need to accommodate the models which don't have any inputs.\n",
    "    else:\n",
    "        instance=model(*args,**kwargs) #Instantiate the model\n",
    "    instance.fit(X_train,y_train) #Fit the model\n",
    "    predictions=instance.predict(X_test) #Predict using test data\n",
    "    print(f'Evaluation metrics for the {model} model:\\n')\n",
    "    print(classification_report(y_test,predictions))\n",
    "    print(f'Confusion Matrix:\\n {confusion_matrix(y_test,predictions)}\\n')\n",
    "    try:\n",
    "        pred_prob=instance.predict_proba(X_test)\n",
    "    except AttributeError:\n",
    "        pred_prob=0        \n",
    "    return predictions,pred_prob\n",
    "#test:\n",
    "predictions,pred_prob=ml_model(X_train, X_test, y_train, y_test, KNeighborsClassifier, 30,algorithm='brute')"
   ]
  },
  {
   "cell_type": "code",
   "execution_count": 20,
   "metadata": {
    "scrolled": false
   },
   "outputs": [
    {
     "data": {
      "image/png": "[encoded data removed]",
      "text/plain": [
       "<Figure size 432x288 with 1 Axes>"
      ]
     },
     "metadata": {
      "needs_background": "light"
     },
     "output_type": "display_data"
    }
   ],
   "source": [
    "def plot_model_evaluation(y_test,pred_prob):\n",
    "    '''\n",
    "    Plot a distribution of the number of matches which are predicted to be 3 vs 4 or 5 sets (with probabilities) \n",
    "    compared to what they actually were.\n",
    "    '''\n",
    "    df_ml_test=df_ml.loc[y_test.index]\n",
    "    df_ml_test[['0','1']]=pred_prob\n",
    "    df_ml_test['Predictions']=predictions\n",
    "    fig=sns.histplot(data=df_ml_test,x='1',hue='Sets')\n",
    "    fig.set_xlabel('Probability of a match being 4 or 5 sets long')\n",
    "    fig.legend(['4 or 5 Sets','3 Sets'],title='True match length')\n",
    "    plt.show()\n",
    "#Test:\n",
    "plot_model_evaluation(y_test,pred_prob)"
   ]
  },
  {
   "cell_type": "markdown",
   "metadata": {},
   "source": [
    "***Evaluate all of the models in one loop by printing their classification report, confusion report, and a plot of what the model thought the probability of the length of each match is:***"
   ]
  },
  {
   "cell_type": "code",
   "execution_count": 21,
   "metadata": {
    "scrolled": false
   },
   "outputs": [
    {
     "name": "stdout",
     "output_type": "stream",
     "text": [
      "Evaluation metrics for the <class 'sklearn.tree._classes.DecisionTreeClassifier'> model:\n",
      "\n",
      "              precision    recall  f1-score   support\n",
      "\n",
      "           0       0.54      0.68      0.60       913\n",
      "           1       0.53      0.39      0.45       856\n",
      "\n",
      "    accuracy                           0.54      1769\n",
      "   macro avg       0.54      0.53      0.53      1769\n",
      "weighted avg       0.54      0.54      0.53      1769\n",
      "\n",
      "Confusion Matrix:\n",
      " [[617 296]\n",
      " [522 334]]\n",
      "\n"
     ]
    },
    {
     "data": {
      "image/png": "[encoded data removed]",
      "text/plain": [
       "<Figure size 432x288 with 1 Axes>"
      ]
     },
     "metadata": {
      "needs_background": "light"
     },
     "output_type": "display_data"
    },
    {
     "name": "stdout",
     "output_type": "stream",
     "text": [
      "Evaluation metrics for the <class 'sklearn.ensemble._forest.RandomForestClassifier'> model:\n",
      "\n",
      "              precision    recall  f1-score   support\n",
      "\n",
      "           0       0.54      0.65      0.59       913\n",
      "           1       0.53      0.42      0.47       856\n",
      "\n",
      "    accuracy                           0.54      1769\n",
      "   macro avg       0.54      0.54      0.53      1769\n",
      "weighted avg       0.54      0.54      0.53      1769\n",
      "\n",
      "Confusion Matrix:\n",
      " [[594 319]\n",
      " [496 360]]\n",
      "\n"
     ]
    },
    {
     "data": {
      "image/png": "[encoded data removed]",
      "text/plain": [
       "<Figure size 432x288 with 1 Axes>"
      ]
     },
     "metadata": {
      "needs_background": "light"
     },
     "output_type": "display_data"
    },
    {
     "name": "stdout",
     "output_type": "stream",
     "text": [
      "Evaluation metrics for the <class 'sklearn.linear_model._logistic.LogisticRegression'> model:\n",
      "\n",
      "              precision    recall  f1-score   support\n",
      "\n",
      "           0       0.54      0.67      0.60       913\n",
      "           1       0.53      0.39      0.45       856\n",
      "\n",
      "    accuracy                           0.54      1769\n",
      "   macro avg       0.54      0.53      0.53      1769\n",
      "weighted avg       0.54      0.54      0.53      1769\n",
      "\n",
      "Confusion Matrix:\n",
      " [[614 299]\n",
      " [520 336]]\n",
      "\n"
     ]
    },
    {
     "data": {
      "image/png": "[encoded data removed]",
      "text/plain": [
       "<Figure size 432x288 with 1 Axes>"
      ]
     },
     "metadata": {
      "needs_background": "light"
     },
     "output_type": "display_data"
    },
    {
     "name": "stdout",
     "output_type": "stream",
     "text": [
      "Evaluation metrics for the <class 'sklearn.svm._classes.SVC'> model:\n",
      "\n",
      "              precision    recall  f1-score   support\n",
      "\n",
      "           0       0.53      0.74      0.62       913\n",
      "           1       0.53      0.31      0.39       856\n",
      "\n",
      "    accuracy                           0.53      1769\n",
      "   macro avg       0.53      0.53      0.51      1769\n",
      "weighted avg       0.53      0.53      0.51      1769\n",
      "\n",
      "Confusion Matrix:\n",
      " [[675 238]\n",
      " [590 266]]\n",
      "\n",
      "Evaluation metrics for the <class 'sklearn.neighbors._classification.KNeighborsClassifier'> model:\n",
      "\n",
      "              precision    recall  f1-score   support\n",
      "\n",
      "           0       0.53      0.66      0.59       913\n",
      "           1       0.51      0.37      0.43       856\n",
      "\n",
      "    accuracy                           0.52      1769\n",
      "   macro avg       0.52      0.52      0.51      1769\n",
      "weighted avg       0.52      0.52      0.51      1769\n",
      "\n",
      "Confusion Matrix:\n",
      " [[605 308]\n",
      " [537 319]]\n",
      "\n"
     ]
    },
    {
     "data": {
      "image/png": "[encoded data removed]",
      "text/plain": [
       "<Figure size 432x288 with 1 Axes>"
      ]
     },
     "metadata": {
      "needs_background": "light"
     },
     "output_type": "display_data"
    }
   ],
   "source": [
    "models=[DecisionTreeClassifier, RandomForestClassifier, LogisticRegression, SVC, KNeighborsClassifier]\n",
    "parameters=[0,0,0,0,30] #Initial parameters\n",
    "for model, parameter in zip_longest(models,parameters):\n",
    "    predictions,predict_proba=ml_model(X_train, X_test, y_train, y_test, model, parameter)\n",
    "    if type(predict_proba)!=int: #SVC doesn't return a probability for 0 or 1, so it can't use plot_model_evaluation function.\n",
    "        plot_model_evaluation(y_test,predict_proba)"
   ]
  },
  {
   "cell_type": "markdown",
   "metadata": {},
   "source": [
    "All of the models give an accuracy between 52% and 54%, which is only slightly better than 50%. As expected, the models are not performing well, in large part due to the fact that most of the matches are centered around a probability of 50% (also expected), and not enough data. The k nearest neighbors model is very sensitive to the number of neighbors, so it would be interesting to try to optimize some of this models parameters."
   ]
  },
  {
   "cell_type": "markdown",
   "metadata": {},
   "source": [
    "### b) Optimize K Nearest Neighbors Algorithm:"
   ]
  },
  {
   "cell_type": "markdown",
   "metadata": {},
   "source": [
    "#### Choosing a K Value:\n",
    "\n",
    "By using the elbow method, I will find the number of nearest neighbors which minimizes the error rate (maximizes accuracy)."
   ]
  },
  {
   "cell_type": "code",
   "execution_count": 22,
   "metadata": {},
   "outputs": [],
   "source": [
    "from sklearn.metrics import accuracy_score"
   ]
  },
  {
   "cell_type": "markdown",
   "metadata": {},
   "source": [
    "Use a loop to try a range of values for k, then choose the one which minimizes the error rate:"
   ]
  },
  {
   "cell_type": "code",
   "execution_count": 23,
   "metadata": {},
   "outputs": [],
   "source": [
    "error_rate=[]\n",
    "ks=(np.linspace(0,1000,101)+1)*3 #Make a range of k values to try\n",
    "for i in ks:\n",
    "    KNN=KNeighborsClassifier(n_neighbors=int(i),algorithm='brute')\n",
    "    KNN.fit(X_train,y_train)\n",
    "    predictions=KNN.predict(X_test)\n",
    "    error_rate.append(1-accuracy_score(predictions,y_test))"
   ]
  },
  {
   "cell_type": "markdown",
   "metadata": {},
   "source": [
    "Create a plot with error rate vs k to find out which k minimizes the error:"
   ]
  },
  {
   "cell_type": "code",
   "execution_count": 24,
   "metadata": {},
   "outputs": [
    {
     "data": {
      "text/plain": [
       "Text(0, 0.5, 'Error Rate')"
      ]
     },
     "execution_count": 24,
     "metadata": {},
     "output_type": "execute_result"
    },
    {
     "data": {
      "image/png": "[encoded data removed]",
      "text/plain": [
       "<Figure size 576x432 with 1 Axes>"
      ]
     },
     "metadata": {
      "needs_background": "light"
     },
     "output_type": "display_data"
    }
   ],
   "source": [
    "plt.figure(figsize=(8,6))\n",
    "plt.plot(ks,error_rate,marker='o',markersize=10,linestyle='-',markerfacecolor='red')\n",
    "plt.xlabel('k Nearest Neighbors')\n",
    "plt.ylabel('Error Rate')"
   ]
  },
  {
   "cell_type": "markdown",
   "metadata": {},
   "source": [
    "Find k value corresponding to minimum error rate:"
   ]
  },
  {
   "cell_type": "code",
   "execution_count": 25,
   "metadata": {},
   "outputs": [
    {
     "data": {
      "text/plain": [
       "183"
      ]
     },
     "execution_count": 25,
     "metadata": {},
     "output_type": "execute_result"
    }
   ],
   "source": [
    "arr=np.array(error_rate)\n",
    "ind=np.where(arr==np.amin(arr))[0][0]\n",
    "k_opt=int(ks[ind]) #k\n",
    "k_opt"
   ]
  },
  {
   "cell_type": "markdown",
   "metadata": {},
   "source": [
    "Reprint the evaluation metrics using the optimized value for k:"
   ]
  },
  {
   "cell_type": "code",
   "execution_count": 26,
   "metadata": {},
   "outputs": [
    {
     "name": "stdout",
     "output_type": "stream",
     "text": [
      "Evaluation metrics for the <class 'sklearn.neighbors._classification.KNeighborsClassifier'> model:\n",
      "\n",
      "              precision    recall  f1-score   support\n",
      "\n",
      "           0       0.56      0.68      0.61       913\n",
      "           1       0.55      0.42      0.48       856\n",
      "\n",
      "    accuracy                           0.55      1769\n",
      "   macro avg       0.55      0.55      0.54      1769\n",
      "weighted avg       0.55      0.55      0.55      1769\n",
      "\n",
      "Confusion Matrix:\n",
      " [[624 289]\n",
      " [499 357]]\n",
      "\n"
     ]
    },
    {
     "data": {
      "image/png": "[encoded data removed]",
      "text/plain": [
       "<Figure size 432x288 with 1 Axes>"
      ]
     },
     "metadata": {
      "needs_background": "light"
     },
     "output_type": "display_data"
    }
   ],
   "source": [
    "predictions,predict_proba=ml_model(X_train, X_test, y_train, y_test, KNeighborsClassifier, k_opt,algorithm='brute') #Instantiate model, fit model, predict values, plot evaluation metrics\n",
    "plot_model_evaluation(y_test,predict_proba) #Plot number of sets vs probability of a certain number of sets, while specifying the true match length."
   ]
  },
  {
   "cell_type": "markdown",
   "metadata": {},
   "source": [
    "By optimizing the number of neareast neighbors, the accuracy of the model is 0.55, which is slightly better than the other machine learning algorithms. I used the brute force alogrithm rather than using the KDTree or BallTree algorithms because it improves the accuracy slightly, and the decrease in speed isn't significant given the relatively small size of the dataset. The reason KDTree and BallTree algorithms may be misclassifying some 'leaves' could be because of the small correlation between # of sets and round. The performance of this algorithm is not likely to be improved much beyond this level of accuracy because the correlation between the dependent variables and length of match is small. However, there are a few other ways this machine learning algorithm could be improved:\n",
    "\n",
    "1) The best way to improve the results would be to improve the dataset itself. Having the specific world ranking of each player would be extremely helpful. Many of the games feature a nonrated player. This is a problem because unrated players actually have ratings which range between 33 and about 150, but we are giving them all the same rating of 100 (a player rated 33 in the world is obviously much better than one rated 150). This would help to give a stronger correlation between length of match and rating differential and player rating, improving the model.\n",
    "\n",
    "2) Another approach that could improve the results would be to use the specific names of players. This may help, but there are so many different players that we probably don't have enough data to train the model without overfitting.\n",
    "\n",
    "3) A third approach would be to optimize some more of the parameters. In the k nearest neighbors model, we could consider weighting certain matches stronger than others. For example, since we have less information in matches with unrated players, any data coming from those matches could be weighted less strongly. Similarly, we could weight points by the inverse of their distance (or by whatever function we think is appropriate). I decided not to implement these strategies as it is unlikely to have much effect on the results since many of the matches played actually included unrated players. I could also have varied the distance metric. Since I have no reason to believe my points have certain distance dependencies, I just used the default 'Minkowski metric'. \n",
    "\n",
    "Based on the accuracy we obtained of 55%, it is unlikely that any of the above implementations could improve the model enough to consistently predict the correct number of sets in any given match, so I did not attempt to implement them. However, if the objective of this algorithm is to find evenly matched games which go longer than 3 sets because these are more exciting to watch, we can cherry pick certain conditions (e.g. that the rating differential be less than 5, and that the lower rated player in the match be rated higher than 6). With these conditions, our model has a higher accuracy of about 72% (see below). These conditions are quite restrictive, but practically speaking, could be helpful. This is because we will typically only watch a few matches per tournament, so choosing to watch only these matches which we are relatively sure will be longer than 3 sets could be a good strategy."
   ]
  },
  {
   "cell_type": "code",
   "execution_count": 27,
   "metadata": {
    "scrolled": false
   },
   "outputs": [
    {
     "data": {
      "image/png": "[encoded data removed]",
      "text/plain": [
       "<Figure size 432x288 with 1 Axes>"
      ]
     },
     "metadata": {
      "needs_background": "light"
     },
     "output_type": "display_data"
    },
    {
     "name": "stdout",
     "output_type": "stream",
     "text": [
      "              precision    recall  f1-score   support\n",
      "\n",
      "           0       0.00      0.00      0.00         7\n",
      "           1       0.72      1.00      0.84        18\n",
      "\n",
      "    accuracy                           0.72        25\n",
      "   macro avg       0.36      0.50      0.42        25\n",
      "weighted avg       0.52      0.72      0.60        25\n",
      "\n",
      "[[ 0  7]\n",
      " [ 0 18]]\n"
     ]
    },
    {
     "name": "stderr",
     "output_type": "stream",
     "text": [
      "C:\\ProgramData\\Anaconda3\\lib\\site-packages\\sklearn\\metrics\\_classification.py:1221: UndefinedMetricWarning: Precision and F-score are ill-defined and being set to 0.0 in labels with no predicted samples. Use `zero_division` parameter to control this behavior.\n",
      "  _warn_prf(average, modifier, msg_start, len(result))\n"
     ]
    }
   ],
   "source": [
    "def plot_model_evaluation_cond(y_test,pred_prob):\n",
    "    '''Plot a distribution of the number of matches which are predicted to be 3 vs 4 or 5 sets compared \n",
    "    to what they actually were. Use certain conditions which ignore much of the dataset, but which optimize the chance \n",
    "    of getting a match which is longer than 3 sets.\n",
    "    '''\n",
    "    df_ml_test=df_ml.loc[y_test.index]\n",
    "    df_ml_test[['0','1']]=pred_prob\n",
    "    df_ml_test['Predictions']=predictions\n",
    "    df_ml_test=df_ml_test[(df_ml_test['Rating Differential']<5) & (df_ml_test['Lower Rated']>6)]\n",
    "    df_ml_test=df_ml_test[(df_ml_test['Predictions']==1)]\n",
    "    df_ml_test=df_ml_test[(df_ml_test['1']>0.5)]\n",
    "    fig=sns.histplot(data=df_ml_test,x='1',hue='Sets')\n",
    "    fig.set_xlabel('Probability of a match being 4 or 5 sets long')\n",
    "    fig.legend(['4 or 5 Sets','3 Sets'],title='True match length')\n",
    "    plt.show()\n",
    "    #Using conditions above\n",
    "    print(classification_report(df_ml_test['Sets'],df_ml_test['Predictions']))\n",
    "    print(confusion_matrix(df_ml_test['Sets'],df_ml_test['Predictions']))\n",
    "#Test:\n",
    "plot_model_evaluation_cond(y_test,pred_prob)"
   ]
  }
 ],
 "metadata": {
  "language_info": {
   "codemirror_mode": {
    "name": "ipython",
    "version": 3
   },
   "file_extension": ".py",
   "mimetype": "text/x-python",
   "name": "python",
   "nbconvert_exporter": "python",
   "pygments_lexer": "ipython3",
   "version": "3.8.5"
  }
 },
 "nbformat": 4,
 "nbformat_minor": 4
}
